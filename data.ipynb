{
 "cells": [
  {
   "cell_type": "code",
   "execution_count": null,
   "metadata": {},
   "outputs": [],
   "source": [
    "import pandas as pd\n",
    "import numpy as np\n",
    "import nltk"
   ]
  },
  {
   "cell_type": "code",
   "execution_count": 14,
   "metadata": {},
   "outputs": [],
   "source": [
    "np.random.seed(42)"
   ]
  },
  {
   "cell_type": "code",
   "execution_count": 15,
   "metadata": {},
   "outputs": [],
   "source": [
    "bp_data = pd.read_csv(\"articles.csv\", header=0)"
   ]
  },
  {
   "cell_type": "code",
   "execution_count": 16,
   "metadata": {
    "scrolled": false
   },
   "outputs": [
    {
     "data": {
      "text/html": [
       "<div>\n",
       "<style scoped>\n",
       "    .dataframe tbody tr th:only-of-type {\n",
       "        vertical-align: middle;\n",
       "    }\n",
       "\n",
       "    .dataframe tbody tr th {\n",
       "        vertical-align: top;\n",
       "    }\n",
       "\n",
       "    .dataframe thead th {\n",
       "        text-align: right;\n",
       "    }\n",
       "</style>\n",
       "<table border=\"1\" class=\"dataframe\">\n",
       "  <thead>\n",
       "    <tr style=\"text-align: right;\">\n",
       "      <th></th>\n",
       "      <th>author</th>\n",
       "      <th>claps</th>\n",
       "      <th>reading_time</th>\n",
       "      <th>link</th>\n",
       "      <th>title</th>\n",
       "      <th>text</th>\n",
       "    </tr>\n",
       "  </thead>\n",
       "  <tbody>\n",
       "    <tr>\n",
       "      <th>46</th>\n",
       "      <td>Christopher Nguyen</td>\n",
       "      <td>991</td>\n",
       "      <td>8</td>\n",
       "      <td>https://medium.com/deep-learning-101/algorithm...</td>\n",
       "      <td>Algorithms of the Mind – Deep Learning 101 – M...</td>\n",
       "      <td>What Machine Learning Teaches Us About Ourselv...</td>\n",
       "    </tr>\n",
       "    <tr>\n",
       "      <th>163</th>\n",
       "      <td>Chintan Trivedi</td>\n",
       "      <td>1.2K</td>\n",
       "      <td>8</td>\n",
       "      <td>https://towardsdatascience.com/using-deep-q-le...</td>\n",
       "      <td>Using Deep Q-Learning in FIFA 18 to perfect th...</td>\n",
       "      <td>A code tutorial in Tensorflow that uses Reinfo...</td>\n",
       "    </tr>\n",
       "    <tr>\n",
       "      <th>57</th>\n",
       "      <td>Adam Geitgey</td>\n",
       "      <td>15.2K</td>\n",
       "      <td>13</td>\n",
       "      <td>https://medium.com/@ageitgey/machine-learning-...</td>\n",
       "      <td>Machine Learning is Fun! Part 4: Modern Face R...</td>\n",
       "      <td>Update: This article is part of a series. Chec...</td>\n",
       "    </tr>\n",
       "  </tbody>\n",
       "</table>\n",
       "</div>"
      ],
      "text/plain": [
       "                 author  claps  reading_time  \\\n",
       "46   Christopher Nguyen    991             8   \n",
       "163     Chintan Trivedi   1.2K             8   \n",
       "57         Adam Geitgey  15.2K            13   \n",
       "\n",
       "                                                  link  \\\n",
       "46   https://medium.com/deep-learning-101/algorithm...   \n",
       "163  https://towardsdatascience.com/using-deep-q-le...   \n",
       "57   https://medium.com/@ageitgey/machine-learning-...   \n",
       "\n",
       "                                                 title  \\\n",
       "46   Algorithms of the Mind – Deep Learning 101 – M...   \n",
       "163  Using Deep Q-Learning in FIFA 18 to perfect th...   \n",
       "57   Machine Learning is Fun! Part 4: Modern Face R...   \n",
       "\n",
       "                                                  text  \n",
       "46   What Machine Learning Teaches Us About Ourselv...  \n",
       "163  A code tutorial in Tensorflow that uses Reinfo...  \n",
       "57   Update: This article is part of a series. Chec...  "
      ]
     },
     "execution_count": 16,
     "metadata": {},
     "output_type": "execute_result"
    }
   ],
   "source": [
    "bp_data.sample(3)"
   ]
  },
  {
   "cell_type": "code",
   "execution_count": null,
   "metadata": {},
   "outputs": [],
   "source": []
  }
 ],
 "metadata": {
  "kernelspec": {
   "display_name": "Python 3",
   "language": "python",
   "name": "python3"
  },
  "language_info": {
   "codemirror_mode": {
    "name": "ipython",
    "version": 3
   },
   "file_extension": ".py",
   "mimetype": "text/x-python",
   "name": "python",
   "nbconvert_exporter": "python",
   "pygments_lexer": "ipython3",
   "version": "3.7.6"
  }
 },
 "nbformat": 4,
 "nbformat_minor": 4
}
