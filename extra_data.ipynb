{
 "cells": [
  {
   "cell_type": "code",
   "execution_count": 10,
   "metadata": {
    "ExecuteTime": {
     "end_time": "2020-04-08T08:12:47.259186Z",
     "start_time": "2020-04-08T08:12:47.255716Z"
    }
   },
   "outputs": [],
   "source": [
    "import requests"
   ]
  },
  {
   "cell_type": "code",
   "execution_count": 15,
   "metadata": {
    "ExecuteTime": {
     "end_time": "2020-04-08T08:26:48.594163Z",
     "start_time": "2020-04-08T08:26:48.589735Z"
    }
   },
   "outputs": [],
   "source": [
    "import json"
   ]
  },
  {
   "cell_type": "code",
   "execution_count": 31,
   "metadata": {
    "ExecuteTime": {
     "end_time": "2020-04-08T08:36:29.724430Z",
     "start_time": "2020-04-08T08:36:28.665854Z"
    }
   },
   "outputs": [],
   "source": [
    "import pandas as pd"
   ]
  },
  {
   "cell_type": "code",
   "execution_count": 55,
   "metadata": {
    "ExecuteTime": {
     "end_time": "2020-04-08T08:47:43.455872Z",
     "start_time": "2020-04-08T08:47:42.706031Z"
    }
   },
   "outputs": [],
   "source": [
    "from lsa import *"
   ]
  },
  {
   "cell_type": "code",
   "execution_count": 49,
   "metadata": {
    "ExecuteTime": {
     "end_time": "2020-04-08T08:43:59.124721Z",
     "start_time": "2020-04-08T08:43:59.116787Z"
    }
   },
   "outputs": [],
   "source": [
    "def parse_data(limit=100):\n",
    "    articles = []\n",
    "    with open('recipes.json') as file:\n",
    "        for i, line in enumerate(file):\n",
    "            if i == limit:\n",
    "                break\n",
    "                \n",
    "            obj = json.loads(line)\n",
    "\n",
    "            text = '{}\\n'.format(obj['Description'])\n",
    "            for ing in obj['Ingredients']:\n",
    "                text += ing + '\\n'\n",
    "            for met in obj['Method']:\n",
    "                text += met + '\\n'\n",
    "            articles.append({\n",
    "                'title': obj['Name'],\n",
    "                'author': obj['Author'],\n",
    "                'link': obj['url'],\n",
    "                'text': text,\n",
    "            })\n",
    "    return pd.DataFrame(articles)"
   ]
  },
  {
   "cell_type": "code",
   "execution_count": 50,
   "metadata": {
    "ExecuteTime": {
     "end_time": "2020-04-08T08:44:00.346661Z",
     "start_time": "2020-04-08T08:44:00.336246Z"
    },
    "run_control": {
     "marked": false
    }
   },
   "outputs": [],
   "source": [
    "df = parse_data()"
   ]
  },
  {
   "cell_type": "code",
   "execution_count": 63,
   "metadata": {
    "ExecuteTime": {
     "end_time": "2020-04-08T08:49:35.581478Z",
     "start_time": "2020-04-08T08:49:35.577529Z"
    }
   },
   "outputs": [],
   "source": [
    "def save_data(df):\n",
    "    df.to_csv('recipes.csv', index=False)"
   ]
  },
  {
   "cell_type": "code",
   "execution_count": 53,
   "metadata": {
    "ExecuteTime": {
     "end_time": "2020-04-08T08:46:49.983849Z",
     "start_time": "2020-04-08T08:46:49.969464Z"
    }
   },
   "outputs": [
    {
     "data": {
      "text/html": [
       "<div>\n",
       "<style scoped>\n",
       "    .dataframe tbody tr th:only-of-type {\n",
       "        vertical-align: middle;\n",
       "    }\n",
       "\n",
       "    .dataframe tbody tr th {\n",
       "        vertical-align: top;\n",
       "    }\n",
       "\n",
       "    .dataframe thead th {\n",
       "        text-align: right;\n",
       "    }\n",
       "</style>\n",
       "<table border=\"1\" class=\"dataframe\">\n",
       "  <thead>\n",
       "    <tr style=\"text-align: right;\">\n",
       "      <th></th>\n",
       "      <th>title</th>\n",
       "      <th>author</th>\n",
       "      <th>link</th>\n",
       "      <th>text</th>\n",
       "    </tr>\n",
       "  </thead>\n",
       "  <tbody>\n",
       "    <tr>\n",
       "      <th>0</th>\n",
       "      <td>Christmas pie</td>\n",
       "      <td>Mary Cadogan</td>\n",
       "      <td>https://www.bbcgoodfood.com/recipes/2793/chris...</td>\n",
       "      <td>Combine a few key Christmas flavours here to m...</td>\n",
       "    </tr>\n",
       "    <tr>\n",
       "      <th>1</th>\n",
       "      <td>Simmer-&amp;-stir Christmas cake</td>\n",
       "      <td>Mary Cadogan</td>\n",
       "      <td>https://www.bbcgoodfood.com/recipes/1160/simme...</td>\n",
       "      <td>An easy-to-make alternative to traditional Chr...</td>\n",
       "    </tr>\n",
       "    <tr>\n",
       "      <th>2</th>\n",
       "      <td>Christmas cupcakes</td>\n",
       "      <td>Sara Buenfeld</td>\n",
       "      <td>https://www.bbcgoodfood.com/recipes/72622/chri...</td>\n",
       "      <td>These beautiful and classy little cakes make l...</td>\n",
       "    </tr>\n",
       "    <tr>\n",
       "      <th>3</th>\n",
       "      <td>Christmas buns</td>\n",
       "      <td>Paul Hollywood</td>\n",
       "      <td>https://www.bbcgoodfood.com/recipes/1803633/ch...</td>\n",
       "      <td>Paul Hollywood's fruit rolls can be made ahead...</td>\n",
       "    </tr>\n",
       "    <tr>\n",
       "      <th>4</th>\n",
       "      <td>Christmas cupcakes</td>\n",
       "      <td>Barney Desmazery</td>\n",
       "      <td>https://www.bbcgoodfood.com/recipes/981634/chr...</td>\n",
       "      <td>Made these for the second time today, and I ha...</td>\n",
       "    </tr>\n",
       "    <tr>\n",
       "      <th>...</th>\n",
       "      <td>...</td>\n",
       "      <td>...</td>\n",
       "      <td>...</td>\n",
       "      <td>...</td>\n",
       "    </tr>\n",
       "    <tr>\n",
       "      <th>95</th>\n",
       "      <td>Christmas pudding Rice Krispie cakes</td>\n",
       "      <td>Valerie Barrett</td>\n",
       "      <td>https://www.bbcgoodfood.com/recipes/christmas-...</td>\n",
       "      <td>Fun to make with kids or as a cute Christmas c...</td>\n",
       "    </tr>\n",
       "    <tr>\n",
       "      <th>96</th>\n",
       "      <td>Snowy owl Christmas tree biscuits</td>\n",
       "      <td>Frances Quinn</td>\n",
       "      <td>https://www.bbcgoodfood.com/recipes/snowy-owls</td>\n",
       "      <td>Great British Bake Off 2013 winner Frances Qui...</td>\n",
       "    </tr>\n",
       "    <tr>\n",
       "      <th>97</th>\n",
       "      <td>Orlando Murrin's Deluxe Christmas Cake</td>\n",
       "      <td>Orlando Murrin</td>\n",
       "      <td>https://www.bbcgoodfood.com/recipes/1194/orlan...</td>\n",
       "      <td>An 'intergalactically special' Christmas cake ...</td>\n",
       "    </tr>\n",
       "    <tr>\n",
       "      <th>98</th>\n",
       "      <td>Let-it-glow Christmas cake</td>\n",
       "      <td>Sarah Cook</td>\n",
       "      <td>https://www.bbcgoodfood.com/recipes/let-it-glo...</td>\n",
       "      <td>Try this snowy icing to jazz up a classic Chri...</td>\n",
       "    </tr>\n",
       "    <tr>\n",
       "      <th>99</th>\n",
       "      <td>Chocolate, fruit &amp; clementine Christmas pudding</td>\n",
       "      <td>Good Food</td>\n",
       "      <td>https://www.bbcgoodfood.com/recipes/73618/choc...</td>\n",
       "      <td>How long to cook this in an electric pressure ...</td>\n",
       "    </tr>\n",
       "  </tbody>\n",
       "</table>\n",
       "<p>100 rows × 4 columns</p>\n",
       "</div>"
      ],
      "text/plain": [
       "                                              title            author  \\\n",
       "0                                     Christmas pie      Mary Cadogan   \n",
       "1                      Simmer-&-stir Christmas cake      Mary Cadogan   \n",
       "2                                Christmas cupcakes     Sara Buenfeld   \n",
       "3                                    Christmas buns    Paul Hollywood   \n",
       "4                                Christmas cupcakes  Barney Desmazery   \n",
       "..                                              ...               ...   \n",
       "95             Christmas pudding Rice Krispie cakes   Valerie Barrett   \n",
       "96                Snowy owl Christmas tree biscuits     Frances Quinn   \n",
       "97           Orlando Murrin's Deluxe Christmas Cake    Orlando Murrin   \n",
       "98                       Let-it-glow Christmas cake        Sarah Cook   \n",
       "99  Chocolate, fruit & clementine Christmas pudding         Good Food   \n",
       "\n",
       "                                                 link  \\\n",
       "0   https://www.bbcgoodfood.com/recipes/2793/chris...   \n",
       "1   https://www.bbcgoodfood.com/recipes/1160/simme...   \n",
       "2   https://www.bbcgoodfood.com/recipes/72622/chri...   \n",
       "3   https://www.bbcgoodfood.com/recipes/1803633/ch...   \n",
       "4   https://www.bbcgoodfood.com/recipes/981634/chr...   \n",
       "..                                                ...   \n",
       "95  https://www.bbcgoodfood.com/recipes/christmas-...   \n",
       "96     https://www.bbcgoodfood.com/recipes/snowy-owls   \n",
       "97  https://www.bbcgoodfood.com/recipes/1194/orlan...   \n",
       "98  https://www.bbcgoodfood.com/recipes/let-it-glo...   \n",
       "99  https://www.bbcgoodfood.com/recipes/73618/choc...   \n",
       "\n",
       "                                                 text  \n",
       "0   Combine a few key Christmas flavours here to m...  \n",
       "1   An easy-to-make alternative to traditional Chr...  \n",
       "2   These beautiful and classy little cakes make l...  \n",
       "3   Paul Hollywood's fruit rolls can be made ahead...  \n",
       "4   Made these for the second time today, and I ha...  \n",
       "..                                                ...  \n",
       "95  Fun to make with kids or as a cute Christmas c...  \n",
       "96  Great British Bake Off 2013 winner Frances Qui...  \n",
       "97  An 'intergalactically special' Christmas cake ...  \n",
       "98  Try this snowy icing to jazz up a classic Chri...  \n",
       "99  How long to cook this in an electric pressure ...  \n",
       "\n",
       "[100 rows x 4 columns]"
      ]
     },
     "execution_count": 53,
     "metadata": {},
     "output_type": "execute_result"
    }
   ],
   "source": [
    "df"
   ]
  },
  {
   "cell_type": "code",
   "execution_count": 64,
   "metadata": {
    "ExecuteTime": {
     "end_time": "2020-04-08T08:49:37.599622Z",
     "start_time": "2020-04-08T08:49:37.586196Z"
    }
   },
   "outputs": [],
   "source": [
    "save_data(df)"
   ]
  },
  {
   "cell_type": "code",
   "execution_count": 58,
   "metadata": {
    "ExecuteTime": {
     "end_time": "2020-04-08T08:48:21.223397Z",
     "start_time": "2020-04-08T08:48:21.185918Z"
    }
   },
   "outputs": [],
   "source": [
    "article_data = load_data('articles.csv')"
   ]
  },
  {
   "cell_type": "code",
   "execution_count": 65,
   "metadata": {
    "ExecuteTime": {
     "end_time": "2020-04-08T08:49:39.892915Z",
     "start_time": "2020-04-08T08:49:39.877541Z"
    }
   },
   "outputs": [],
   "source": [
    "food_data = load_data('recipes.csv')"
   ]
  },
  {
   "cell_type": "code",
   "execution_count": 69,
   "metadata": {
    "ExecuteTime": {
     "end_time": "2020-04-08T08:52:52.332895Z",
     "start_time": "2020-04-08T08:52:52.315038Z"
    }
   },
   "outputs": [
    {
     "data": {
      "text/html": [
       "<div>\n",
       "<style scoped>\n",
       "    .dataframe tbody tr th:only-of-type {\n",
       "        vertical-align: middle;\n",
       "    }\n",
       "\n",
       "    .dataframe tbody tr th {\n",
       "        vertical-align: top;\n",
       "    }\n",
       "\n",
       "    .dataframe thead th {\n",
       "        text-align: right;\n",
       "    }\n",
       "</style>\n",
       "<table border=\"1\" class=\"dataframe\">\n",
       "  <thead>\n",
       "    <tr style=\"text-align: right;\">\n",
       "      <th></th>\n",
       "      <th>author</th>\n",
       "      <th>claps</th>\n",
       "      <th>reading_time</th>\n",
       "      <th>link</th>\n",
       "      <th>title</th>\n",
       "      <th>text</th>\n",
       "    </tr>\n",
       "  </thead>\n",
       "  <tbody>\n",
       "    <tr>\n",
       "      <th>0</th>\n",
       "      <td>Justin Lee</td>\n",
       "      <td>8.3K</td>\n",
       "      <td>11</td>\n",
       "      <td>https://medium.com/swlh/chatbots-were-the-next...</td>\n",
       "      <td>Chatbots were the next big thing: what happene...</td>\n",
       "      <td>Oh, how the headlines blared:\\nChatbots were T...</td>\n",
       "    </tr>\n",
       "    <tr>\n",
       "      <th>1</th>\n",
       "      <td>Conor Dewey</td>\n",
       "      <td>1.4K</td>\n",
       "      <td>7</td>\n",
       "      <td>https://towardsdatascience.com/python-for-data...</td>\n",
       "      <td>Python for Data Science: 8 Concepts You May Ha...</td>\n",
       "      <td>If you’ve ever found yourself looking up the s...</td>\n",
       "    </tr>\n",
       "    <tr>\n",
       "      <th>2</th>\n",
       "      <td>William Koehrsen</td>\n",
       "      <td>2.8K</td>\n",
       "      <td>11</td>\n",
       "      <td>https://towardsdatascience.com/automated-featu...</td>\n",
       "      <td>Automated Feature Engineering in Python – Towa...</td>\n",
       "      <td>Machine learning is increasingly moving from h...</td>\n",
       "    </tr>\n",
       "    <tr>\n",
       "      <th>3</th>\n",
       "      <td>Gant Laborde</td>\n",
       "      <td>1.3K</td>\n",
       "      <td>7</td>\n",
       "      <td>https://medium.freecodecamp.org/machine-learni...</td>\n",
       "      <td>Machine Learning: how to go from Zero to Hero ...</td>\n",
       "      <td>If your understanding of A.I. and Machine Lear...</td>\n",
       "    </tr>\n",
       "    <tr>\n",
       "      <th>4</th>\n",
       "      <td>Emmanuel Ameisen</td>\n",
       "      <td>935</td>\n",
       "      <td>11</td>\n",
       "      <td>https://blog.insightdatascience.com/reinforcem...</td>\n",
       "      <td>Reinforcement Learning from scratch – Insight ...</td>\n",
       "      <td>Want to learn about applied Artificial Intelli...</td>\n",
       "    </tr>\n",
       "    <tr>\n",
       "      <th>...</th>\n",
       "      <td>...</td>\n",
       "      <td>...</td>\n",
       "      <td>...</td>\n",
       "      <td>...</td>\n",
       "      <td>...</td>\n",
       "      <td>...</td>\n",
       "    </tr>\n",
       "    <tr>\n",
       "      <th>332</th>\n",
       "      <td>Daniel Simmons</td>\n",
       "      <td>3.4K</td>\n",
       "      <td>8</td>\n",
       "      <td>https://itnext.io/you-can-build-a-neural-netwo...</td>\n",
       "      <td>You can build a neural network in JavaScript e...</td>\n",
       "      <td>Click here to share this article on LinkedIn »...</td>\n",
       "    </tr>\n",
       "    <tr>\n",
       "      <th>333</th>\n",
       "      <td>Eugenio Culurciello</td>\n",
       "      <td>2.8K</td>\n",
       "      <td>13</td>\n",
       "      <td>https://towardsdatascience.com/artificial-inte...</td>\n",
       "      <td>Artificial Intelligence, AI in 2018 and beyond...</td>\n",
       "      <td>These are my opinions on where deep neural net...</td>\n",
       "    </tr>\n",
       "    <tr>\n",
       "      <th>334</th>\n",
       "      <td>Devin Soni</td>\n",
       "      <td>5.8K</td>\n",
       "      <td>4</td>\n",
       "      <td>https://towardsdatascience.com/spiking-neural-...</td>\n",
       "      <td>Spiking Neural Networks, the Next Generation o...</td>\n",
       "      <td>Everyone who has been remotely tuned in to rec...</td>\n",
       "    </tr>\n",
       "    <tr>\n",
       "      <th>335</th>\n",
       "      <td>Carlos E. Perez</td>\n",
       "      <td>3.9K</td>\n",
       "      <td>7</td>\n",
       "      <td>https://medium.com/intuitionmachine/neurons-ar...</td>\n",
       "      <td>Surprise! Neurons are Now More Complex than We...</td>\n",
       "      <td>One of the biggest misconceptions around is th...</td>\n",
       "    </tr>\n",
       "    <tr>\n",
       "      <th>336</th>\n",
       "      <td>Nityesh Agarwal</td>\n",
       "      <td>2.4K</td>\n",
       "      <td>13</td>\n",
       "      <td>https://towardsdatascience.com/wth-does-a-neur...</td>\n",
       "      <td>“WTH does a neural network even learn??” — a n...</td>\n",
       "      <td>I believe, we all have that psychologist/philo...</td>\n",
       "    </tr>\n",
       "  </tbody>\n",
       "</table>\n",
       "<p>337 rows × 6 columns</p>\n",
       "</div>"
      ],
      "text/plain": [
       "                  author claps  reading_time  \\\n",
       "0             Justin Lee  8.3K            11   \n",
       "1            Conor Dewey  1.4K             7   \n",
       "2       William Koehrsen  2.8K            11   \n",
       "3           Gant Laborde  1.3K             7   \n",
       "4       Emmanuel Ameisen   935            11   \n",
       "..                   ...   ...           ...   \n",
       "332       Daniel Simmons  3.4K             8   \n",
       "333  Eugenio Culurciello  2.8K            13   \n",
       "334           Devin Soni  5.8K             4   \n",
       "335      Carlos E. Perez  3.9K             7   \n",
       "336      Nityesh Agarwal  2.4K            13   \n",
       "\n",
       "                                                  link  \\\n",
       "0    https://medium.com/swlh/chatbots-were-the-next...   \n",
       "1    https://towardsdatascience.com/python-for-data...   \n",
       "2    https://towardsdatascience.com/automated-featu...   \n",
       "3    https://medium.freecodecamp.org/machine-learni...   \n",
       "4    https://blog.insightdatascience.com/reinforcem...   \n",
       "..                                                 ...   \n",
       "332  https://itnext.io/you-can-build-a-neural-netwo...   \n",
       "333  https://towardsdatascience.com/artificial-inte...   \n",
       "334  https://towardsdatascience.com/spiking-neural-...   \n",
       "335  https://medium.com/intuitionmachine/neurons-ar...   \n",
       "336  https://towardsdatascience.com/wth-does-a-neur...   \n",
       "\n",
       "                                                 title  \\\n",
       "0    Chatbots were the next big thing: what happene...   \n",
       "1    Python for Data Science: 8 Concepts You May Ha...   \n",
       "2    Automated Feature Engineering in Python – Towa...   \n",
       "3    Machine Learning: how to go from Zero to Hero ...   \n",
       "4    Reinforcement Learning from scratch – Insight ...   \n",
       "..                                                 ...   \n",
       "332  You can build a neural network in JavaScript e...   \n",
       "333  Artificial Intelligence, AI in 2018 and beyond...   \n",
       "334  Spiking Neural Networks, the Next Generation o...   \n",
       "335  Surprise! Neurons are Now More Complex than We...   \n",
       "336  “WTH does a neural network even learn??” — a n...   \n",
       "\n",
       "                                                  text  \n",
       "0    Oh, how the headlines blared:\\nChatbots were T...  \n",
       "1    If you’ve ever found yourself looking up the s...  \n",
       "2    Machine learning is increasingly moving from h...  \n",
       "3    If your understanding of A.I. and Machine Lear...  \n",
       "4    Want to learn about applied Artificial Intelli...  \n",
       "..                                                 ...  \n",
       "332  Click here to share this article on LinkedIn »...  \n",
       "333  These are my opinions on where deep neural net...  \n",
       "334  Everyone who has been remotely tuned in to rec...  \n",
       "335  One of the biggest misconceptions around is th...  \n",
       "336  I believe, we all have that psychologist/philo...  \n",
       "\n",
       "[337 rows x 6 columns]"
      ]
     },
     "execution_count": 69,
     "metadata": {},
     "output_type": "execute_result"
    }
   ],
   "source": [
    "article_data"
   ]
  },
  {
   "cell_type": "code",
   "execution_count": 70,
   "metadata": {
    "ExecuteTime": {
     "end_time": "2020-04-08T08:52:53.275363Z",
     "start_time": "2020-04-08T08:52:53.262469Z"
    }
   },
   "outputs": [
    {
     "data": {
      "text/html": [
       "<div>\n",
       "<style scoped>\n",
       "    .dataframe tbody tr th:only-of-type {\n",
       "        vertical-align: middle;\n",
       "    }\n",
       "\n",
       "    .dataframe tbody tr th {\n",
       "        vertical-align: top;\n",
       "    }\n",
       "\n",
       "    .dataframe thead th {\n",
       "        text-align: right;\n",
       "    }\n",
       "</style>\n",
       "<table border=\"1\" class=\"dataframe\">\n",
       "  <thead>\n",
       "    <tr style=\"text-align: right;\">\n",
       "      <th></th>\n",
       "      <th>title</th>\n",
       "      <th>author</th>\n",
       "      <th>link</th>\n",
       "      <th>text</th>\n",
       "    </tr>\n",
       "  </thead>\n",
       "  <tbody>\n",
       "    <tr>\n",
       "      <th>0</th>\n",
       "      <td>Christmas pie</td>\n",
       "      <td>Mary Cadogan</td>\n",
       "      <td>https://www.bbcgoodfood.com/recipes/2793/chris...</td>\n",
       "      <td>Combine a few key Christmas flavours here to m...</td>\n",
       "    </tr>\n",
       "    <tr>\n",
       "      <th>1</th>\n",
       "      <td>Simmer-&amp;-stir Christmas cake</td>\n",
       "      <td>Mary Cadogan</td>\n",
       "      <td>https://www.bbcgoodfood.com/recipes/1160/simme...</td>\n",
       "      <td>An easy-to-make alternative to traditional Chr...</td>\n",
       "    </tr>\n",
       "    <tr>\n",
       "      <th>2</th>\n",
       "      <td>Christmas cupcakes</td>\n",
       "      <td>Sara Buenfeld</td>\n",
       "      <td>https://www.bbcgoodfood.com/recipes/72622/chri...</td>\n",
       "      <td>These beautiful and classy little cakes make l...</td>\n",
       "    </tr>\n",
       "    <tr>\n",
       "      <th>3</th>\n",
       "      <td>Christmas buns</td>\n",
       "      <td>Paul Hollywood</td>\n",
       "      <td>https://www.bbcgoodfood.com/recipes/1803633/ch...</td>\n",
       "      <td>Paul Hollywood's fruit rolls can be made ahead...</td>\n",
       "    </tr>\n",
       "    <tr>\n",
       "      <th>4</th>\n",
       "      <td>Christmas cupcakes</td>\n",
       "      <td>Barney Desmazery</td>\n",
       "      <td>https://www.bbcgoodfood.com/recipes/981634/chr...</td>\n",
       "      <td>Made these for the second time today, and I ha...</td>\n",
       "    </tr>\n",
       "    <tr>\n",
       "      <th>...</th>\n",
       "      <td>...</td>\n",
       "      <td>...</td>\n",
       "      <td>...</td>\n",
       "      <td>...</td>\n",
       "    </tr>\n",
       "    <tr>\n",
       "      <th>95</th>\n",
       "      <td>Christmas pudding Rice Krispie cakes</td>\n",
       "      <td>Valerie Barrett</td>\n",
       "      <td>https://www.bbcgoodfood.com/recipes/christmas-...</td>\n",
       "      <td>Fun to make with kids or as a cute Christmas c...</td>\n",
       "    </tr>\n",
       "    <tr>\n",
       "      <th>96</th>\n",
       "      <td>Snowy owl Christmas tree biscuits</td>\n",
       "      <td>Frances Quinn</td>\n",
       "      <td>https://www.bbcgoodfood.com/recipes/snowy-owls</td>\n",
       "      <td>Great British Bake Off 2013 winner Frances Qui...</td>\n",
       "    </tr>\n",
       "    <tr>\n",
       "      <th>97</th>\n",
       "      <td>Orlando Murrin's Deluxe Christmas Cake</td>\n",
       "      <td>Orlando Murrin</td>\n",
       "      <td>https://www.bbcgoodfood.com/recipes/1194/orlan...</td>\n",
       "      <td>An 'intergalactically special' Christmas cake ...</td>\n",
       "    </tr>\n",
       "    <tr>\n",
       "      <th>98</th>\n",
       "      <td>Let-it-glow Christmas cake</td>\n",
       "      <td>Sarah Cook</td>\n",
       "      <td>https://www.bbcgoodfood.com/recipes/let-it-glo...</td>\n",
       "      <td>Try this snowy icing to jazz up a classic Chri...</td>\n",
       "    </tr>\n",
       "    <tr>\n",
       "      <th>99</th>\n",
       "      <td>Chocolate, fruit &amp; clementine Christmas pudding</td>\n",
       "      <td>Good Food</td>\n",
       "      <td>https://www.bbcgoodfood.com/recipes/73618/choc...</td>\n",
       "      <td>How long to cook this in an electric pressure ...</td>\n",
       "    </tr>\n",
       "  </tbody>\n",
       "</table>\n",
       "<p>100 rows × 4 columns</p>\n",
       "</div>"
      ],
      "text/plain": [
       "                                              title            author  \\\n",
       "0                                     Christmas pie      Mary Cadogan   \n",
       "1                      Simmer-&-stir Christmas cake      Mary Cadogan   \n",
       "2                                Christmas cupcakes     Sara Buenfeld   \n",
       "3                                    Christmas buns    Paul Hollywood   \n",
       "4                                Christmas cupcakes  Barney Desmazery   \n",
       "..                                              ...               ...   \n",
       "95             Christmas pudding Rice Krispie cakes   Valerie Barrett   \n",
       "96                Snowy owl Christmas tree biscuits     Frances Quinn   \n",
       "97           Orlando Murrin's Deluxe Christmas Cake    Orlando Murrin   \n",
       "98                       Let-it-glow Christmas cake        Sarah Cook   \n",
       "99  Chocolate, fruit & clementine Christmas pudding         Good Food   \n",
       "\n",
       "                                                 link  \\\n",
       "0   https://www.bbcgoodfood.com/recipes/2793/chris...   \n",
       "1   https://www.bbcgoodfood.com/recipes/1160/simme...   \n",
       "2   https://www.bbcgoodfood.com/recipes/72622/chri...   \n",
       "3   https://www.bbcgoodfood.com/recipes/1803633/ch...   \n",
       "4   https://www.bbcgoodfood.com/recipes/981634/chr...   \n",
       "..                                                ...   \n",
       "95  https://www.bbcgoodfood.com/recipes/christmas-...   \n",
       "96     https://www.bbcgoodfood.com/recipes/snowy-owls   \n",
       "97  https://www.bbcgoodfood.com/recipes/1194/orlan...   \n",
       "98  https://www.bbcgoodfood.com/recipes/let-it-glo...   \n",
       "99  https://www.bbcgoodfood.com/recipes/73618/choc...   \n",
       "\n",
       "                                                 text  \n",
       "0   Combine a few key Christmas flavours here to m...  \n",
       "1   An easy-to-make alternative to traditional Chr...  \n",
       "2   These beautiful and classy little cakes make l...  \n",
       "3   Paul Hollywood's fruit rolls can be made ahead...  \n",
       "4   Made these for the second time today, and I ha...  \n",
       "..                                                ...  \n",
       "95  Fun to make with kids or as a cute Christmas c...  \n",
       "96  Great British Bake Off 2013 winner Frances Qui...  \n",
       "97  An 'intergalactically special' Christmas cake ...  \n",
       "98  Try this snowy icing to jazz up a classic Chri...  \n",
       "99  How long to cook this in an electric pressure ...  \n",
       "\n",
       "[100 rows x 4 columns]"
      ]
     },
     "execution_count": 70,
     "metadata": {},
     "output_type": "execute_result"
    }
   ],
   "source": [
    "food_data"
   ]
  },
  {
   "cell_type": "code",
   "execution_count": 80,
   "metadata": {
    "ExecuteTime": {
     "end_time": "2020-04-08T08:54:40.379952Z",
     "start_time": "2020-04-08T08:54:40.370568Z"
    }
   },
   "outputs": [],
   "source": [
    "data = pd.concat([article_data, food_data], ignore_index=True)"
   ]
  }
 ],
 "metadata": {
  "kernelspec": {
   "display_name": "Python 3",
   "language": "python",
   "name": "python3"
  },
  "language_info": {
   "codemirror_mode": {
    "name": "ipython",
    "version": 3
   },
   "file_extension": ".py",
   "mimetype": "text/x-python",
   "name": "python",
   "nbconvert_exporter": "python",
   "pygments_lexer": "ipython3",
   "version": "3.7.6"
  }
 },
 "nbformat": 4,
 "nbformat_minor": 4
}
