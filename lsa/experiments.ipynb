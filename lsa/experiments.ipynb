{
 "cells": [
  {
   "cell_type": "code",
   "execution_count": 1,
   "metadata": {},
   "outputs": [],
   "source": [
    "from lsa import *\n",
    "import matplotlib.pyplot as plt\n",
    "import csv\n",
    "import os\n",
    "import json\n",
    "import time"
   ]
  },
  {
   "cell_type": "code",
   "execution_count": 2,
   "metadata": {},
   "outputs": [],
   "source": [
    "data_dir = 'data'"
   ]
  },
  {
   "cell_type": "code",
   "execution_count": 3,
   "metadata": {},
   "outputs": [],
   "source": [
    "data_files = [os.path.join(data_dir, f) for f in DATA_FILES]"
   ]
  },
  {
   "cell_type": "code",
   "execution_count": 4,
   "metadata": {},
   "outputs": [],
   "source": [
    "df_data = load_data(data_files)"
   ]
  },
  {
   "cell_type": "code",
   "execution_count": 5,
   "metadata": {},
   "outputs": [
    {
     "data": {
      "text/html": [
       "<div>\n",
       "<style scoped>\n",
       "    .dataframe tbody tr th:only-of-type {\n",
       "        vertical-align: middle;\n",
       "    }\n",
       "\n",
       "    .dataframe tbody tr th {\n",
       "        vertical-align: top;\n",
       "    }\n",
       "\n",
       "    .dataframe thead th {\n",
       "        text-align: right;\n",
       "    }\n",
       "</style>\n",
       "<table border=\"1\" class=\"dataframe\">\n",
       "  <thead>\n",
       "    <tr style=\"text-align: right;\">\n",
       "      <th></th>\n",
       "      <th>title</th>\n",
       "      <th>author</th>\n",
       "      <th>url</th>\n",
       "      <th>content</th>\n",
       "      <th>id</th>\n",
       "      <th>publication</th>\n",
       "    </tr>\n",
       "  </thead>\n",
       "  <tbody>\n",
       "    <tr>\n",
       "      <th>0</th>\n",
       "      <td>It’s Possible to Hack a Phone With Sound Waves...</td>\n",
       "      <td>John Markoff</td>\n",
       "      <td>NaN</td>\n",
       "      <td>SAN FRANCISCO  —   A security loophole that wo...</td>\n",
       "      <td>19284</td>\n",
       "      <td>New York Times</td>\n",
       "    </tr>\n",
       "    <tr>\n",
       "      <th>1</th>\n",
       "      <td>Politically Correct School Officials Reject ’G...</td>\n",
       "      <td>Tom Ciccotta</td>\n",
       "      <td>NaN</td>\n",
       "      <td>A report from The Baltimore Sun claims that Ba...</td>\n",
       "      <td>44077</td>\n",
       "      <td>Breitbart</td>\n",
       "    </tr>\n",
       "    <tr>\n",
       "      <th>2</th>\n",
       "      <td>Clinton, Sanders use N.H. primary to frame lon...</td>\n",
       "      <td>Philip Rucker</td>\n",
       "      <td>https://web.archive.org/web/20160206013008/htt...</td>\n",
       "      <td>CONCORD, N. H.  —   For the Democratic presi...</td>\n",
       "      <td>209714</td>\n",
       "      <td>Washington Post</td>\n",
       "    </tr>\n",
       "    <tr>\n",
       "      <th>3</th>\n",
       "      <td>The ambitious Democrat who can make Trump Univ...</td>\n",
       "      <td>Charles Gasparino</td>\n",
       "      <td>http://nypost.com/2016/03/08/the-ambitious-dem...</td>\n",
       "      <td>Add one more bizarre twist to the 2016 preside...</td>\n",
       "      <td>135930</td>\n",
       "      <td>New York Post</td>\n",
       "    </tr>\n",
       "    <tr>\n",
       "      <th>4</th>\n",
       "      <td>People Are Slamming Tribeca Film Festival For...</td>\n",
       "      <td>Susan Cheng</td>\n",
       "      <td>https://web.archive.org/web/20160325115729/htt...</td>\n",
       "      <td>Organizers for the upcoming 2016 Tribeca Film...</td>\n",
       "      <td>106460</td>\n",
       "      <td>Buzzfeed News</td>\n",
       "    </tr>\n",
       "    <tr>\n",
       "      <th>...</th>\n",
       "      <td>...</td>\n",
       "      <td>...</td>\n",
       "      <td>...</td>\n",
       "      <td>...</td>\n",
       "      <td>...</td>\n",
       "      <td>...</td>\n",
       "    </tr>\n",
       "    <tr>\n",
       "      <th>995</th>\n",
       "      <td>Autopsy shows Keith Lamont Scott had four guns...</td>\n",
       "      <td>Wesley Lowery</td>\n",
       "      <td>https://web.archive.org/web/20161013005231/htt...</td>\n",
       "      <td>Keith Lamont Scott was struck at least th...</td>\n",
       "      <td>215980</td>\n",
       "      <td>Washington Post</td>\n",
       "    </tr>\n",
       "    <tr>\n",
       "      <th>996</th>\n",
       "      <td>Scientists found bacteria inside rocks — here’...</td>\n",
       "      <td>The Cosmic Companion</td>\n",
       "      <td>https://thenextweb.com/syndication/2020/04/17/...</td>\n",
       "      <td>The discovery of bacteria inside rocks under t...</td>\n",
       "      <td>73470</td>\n",
       "      <td>The Next Web</td>\n",
       "    </tr>\n",
       "    <tr>\n",
       "      <th>997</th>\n",
       "      <td>Little Richard, rock 'n' roll pioneer, has die...</td>\n",
       "      <td>NaN</td>\n",
       "      <td>https://www.cbsnews.com/news/little-richard-ro...</td>\n",
       "      <td>Little Richard, one of the chief architects of...</td>\n",
       "      <td>73471</td>\n",
       "      <td>CBS NEWS</td>\n",
       "    </tr>\n",
       "    <tr>\n",
       "      <th>998</th>\n",
       "      <td>Silicon Valley’s favorite magician reimagines ...</td>\n",
       "      <td>Zachary Crockett</td>\n",
       "      <td>https://thehustle.co/silicon-valleys-favorite-...</td>\n",
       "      <td>Daniel Chan has stumped billionaires, CEOs, a...</td>\n",
       "      <td>73472</td>\n",
       "      <td>The Hustle</td>\n",
       "    </tr>\n",
       "    <tr>\n",
       "      <th>999</th>\n",
       "      <td>Leading NYC Illusionist Launches Virtual Magic...</td>\n",
       "      <td>ERock Christopher</td>\n",
       "      <td>https://newswire.net/newsroom/pr/00119400-lead...</td>\n",
       "      <td>The magic of technology has allowed the highly...</td>\n",
       "      <td>73473</td>\n",
       "      <td>Newswire</td>\n",
       "    </tr>\n",
       "  </tbody>\n",
       "</table>\n",
       "<p>1000 rows × 6 columns</p>\n",
       "</div>"
      ],
      "text/plain": [
       "                                                 title                author  \\\n",
       "0    It’s Possible to Hack a Phone With Sound Waves...          John Markoff   \n",
       "1    Politically Correct School Officials Reject ’G...          Tom Ciccotta   \n",
       "2    Clinton, Sanders use N.H. primary to frame lon...         Philip Rucker   \n",
       "3    The ambitious Democrat who can make Trump Univ...     Charles Gasparino   \n",
       "4     People Are Slamming Tribeca Film Festival For...           Susan Cheng   \n",
       "..                                                 ...                   ...   \n",
       "995  Autopsy shows Keith Lamont Scott had four guns...         Wesley Lowery   \n",
       "996  Scientists found bacteria inside rocks — here’...  The Cosmic Companion   \n",
       "997  Little Richard, rock 'n' roll pioneer, has die...                   NaN   \n",
       "998  Silicon Valley’s favorite magician reimagines ...      Zachary Crockett   \n",
       "999  Leading NYC Illusionist Launches Virtual Magic...     ERock Christopher   \n",
       "\n",
       "                                                   url  \\\n",
       "0                                                  NaN   \n",
       "1                                                  NaN   \n",
       "2    https://web.archive.org/web/20160206013008/htt...   \n",
       "3    http://nypost.com/2016/03/08/the-ambitious-dem...   \n",
       "4    https://web.archive.org/web/20160325115729/htt...   \n",
       "..                                                 ...   \n",
       "995  https://web.archive.org/web/20161013005231/htt...   \n",
       "996  https://thenextweb.com/syndication/2020/04/17/...   \n",
       "997  https://www.cbsnews.com/news/little-richard-ro...   \n",
       "998  https://thehustle.co/silicon-valleys-favorite-...   \n",
       "999  https://newswire.net/newsroom/pr/00119400-lead...   \n",
       "\n",
       "                                               content      id  \\\n",
       "0    SAN FRANCISCO  —   A security loophole that wo...   19284   \n",
       "1    A report from The Baltimore Sun claims that Ba...   44077   \n",
       "2      CONCORD, N. H.  —   For the Democratic presi...  209714   \n",
       "3    Add one more bizarre twist to the 2016 preside...  135930   \n",
       "4     Organizers for the upcoming 2016 Tribeca Film...  106460   \n",
       "..                                                 ...     ...   \n",
       "995       Keith Lamont Scott was struck at least th...  215980   \n",
       "996  The discovery of bacteria inside rocks under t...   73470   \n",
       "997  Little Richard, one of the chief architects of...   73471   \n",
       "998   Daniel Chan has stumped billionaires, CEOs, a...   73472   \n",
       "999  The magic of technology has allowed the highly...   73473   \n",
       "\n",
       "         publication  \n",
       "0     New York Times  \n",
       "1          Breitbart  \n",
       "2    Washington Post  \n",
       "3      New York Post  \n",
       "4      Buzzfeed News  \n",
       "..               ...  \n",
       "995  Washington Post  \n",
       "996     The Next Web  \n",
       "997         CBS NEWS  \n",
       "998       The Hustle  \n",
       "999         Newswire  \n",
       "\n",
       "[1000 rows x 6 columns]"
      ]
     },
     "execution_count": 5,
     "metadata": {},
     "output_type": "execute_result"
    }
   ],
   "source": [
    "df_data"
   ]
  },
  {
   "cell_type": "code",
   "execution_count": 25,
   "metadata": {},
   "outputs": [],
   "source": [
    "# Cas preprocesingu stemming vs lemmatizace"
   ]
  },
  {
   "cell_type": "code",
   "execution_count": 26,
   "metadata": {},
   "outputs": [
    {
     "name": "stdout",
     "output_type": "stream",
     "text": [
      "Čas preprocesingu s použitím stemmingu: 11.415580749511719 sekund\n"
     ]
    }
   ],
   "source": [
    "start = time.time()\n",
    "df_words_stemmed = preprocess_docs(df_data, use_lemmatizer=False, remove_numbers=True)\n",
    "end = time.time()\n",
    "\n",
    "print(\"Čas preprocesingu s použitím stemmingu: \" + str(end-start) + \" sekund\")"
   ]
  },
  {
   "cell_type": "code",
   "execution_count": null,
   "metadata": {},
   "outputs": [],
   "source": [
    "start = time.time()\n",
    "df_words_lemmatized = preprocess_docs(df_data, use_lemmatizer=True, remove_numbers=True)\n",
    "end = time.time()\n",
    "\n",
    "print(\"Čas preprocesingu s použitím lemmatizace: \" + str(end-start) + \" sekund\")"
   ]
  },
  {
   "cell_type": "code",
   "execution_count": null,
   "metadata": {},
   "outputs": [],
   "source": [
    "# Graf singularnich hodnot stemming versus lemmatizace"
   ]
  },
  {
   "cell_type": "code",
   "execution_count": null,
   "metadata": {},
   "outputs": [],
   "source": [
    "df_frequency_stemmed = get_term_by_document_frequency(df_words_stemmed)\n",
    "df_frequency_lemmatized = get_term_by_document_frequency(df_words_lemmatized)\n",
    "df_reduced_stemmed = reduce_terms(df_frequency_stemmed, max_df=1, min_df=1, max_terms=0,\n",
    "                          keep_less_freq=False)\n",
    "df_reduced_lemmatized = reduce_terms(df_frequency_lemmatized, max_df=1, min_df=1, max_terms=0,\n",
    "                          keep_less_freq=False)\n",
    "\n",
    "df_tf_idf_stemmed = get_tf_idf(df_reduced_stemmed)\n",
    "df_tf_idf_lemmatized = get_tf_idf(df_reduced_lemmatized)\n",
    "\n",
    "values_stemmed = df_tf_idf_stemmed.fillna(0).to_numpy()\n",
    "values_lemmatized = df_tf_idf_lemmatized.fillna(0).to_numpy()\n",
    "\n",
    "U, s_eigen_stemmed, V = np.linalg.svd(values_stemmed, full_matrices=False)\n",
    "U, s_eigen_lemmatized, V = np.linalg.svd(values_lemmatized, full_matrices=False)\n",
    "\n",
    "s_eigen_norm_stemmed = [x / s_eigen_stemmed[0] for x in s_eigen_stemmed]\n",
    "s_eigen_norm_lemmatized = [x / s_eigen_lemmatized[0] for x in s_eigen_lemmatized]"
   ]
  },
  {
   "cell_type": "code",
   "execution_count": null,
   "metadata": {},
   "outputs": [],
   "source": [
    "df_reduced_stemmed"
   ]
  },
  {
   "cell_type": "code",
   "execution_count": null,
   "metadata": {},
   "outputs": [],
   "source": [
    "df_reduced_lemmatized"
   ]
  },
  {
   "cell_type": "code",
   "execution_count": null,
   "metadata": {},
   "outputs": [],
   "source": [
    "fig = plt.figure()\n",
    "plt.plot(s_eigen_norm_stemmed)\n",
    "plt.plot(s_eigen_norm_lemmatized)\n",
    "plt.xlabel('Singulárních hodnoty')\n",
    "plt.ylabel('Poměr vůči nejvyšší singulární hodnotě')\n",
    "#fig.savefig('../report/images/singular_values.png')\n",
    "plt.show()"
   ]
  },
  {
   "cell_type": "code",
   "execution_count": null,
   "metadata": {},
   "outputs": [],
   "source": [
    "#Graf singularnich hodnot"
   ]
  },
  {
   "cell_type": "code",
   "execution_count": 6,
   "metadata": {},
   "outputs": [],
   "source": [
    "df_words = preprocess_docs(df_data, use_lemmatizer=True, remove_numbers=True)\n",
    "df_frequency = get_term_by_document_frequency(df_words)\n",
    "df_reduced = reduce_terms(df_frequency, max_df=1, min_df=1, max_terms=0,\n",
    "                          keep_less_freq=False)\n",
    "df_tf_idf = get_tf_idf(df_reduced)"
   ]
  },
  {
   "cell_type": "code",
   "execution_count": null,
   "metadata": {},
   "outputs": [],
   "source": [
    "df_reduced"
   ]
  },
  {
   "cell_type": "code",
   "execution_count": null,
   "metadata": {},
   "outputs": [],
   "source": [
    "values = df_tf_idf.fillna(0).to_numpy()"
   ]
  },
  {
   "cell_type": "code",
   "execution_count": null,
   "metadata": {},
   "outputs": [],
   "source": [
    "U, s_eigen, V = np.linalg.svd(values, full_matrices=False)"
   ]
  },
  {
   "cell_type": "code",
   "execution_count": null,
   "metadata": {},
   "outputs": [],
   "source": [
    "s_eigen"
   ]
  },
  {
   "cell_type": "code",
   "execution_count": null,
   "metadata": {},
   "outputs": [],
   "source": [
    "s_eigen[0]"
   ]
  },
  {
   "cell_type": "code",
   "execution_count": null,
   "metadata": {},
   "outputs": [],
   "source": [
    "s_eigen_norm = [x / s_eigen[0] for x in s_eigen]"
   ]
  },
  {
   "cell_type": "code",
   "execution_count": null,
   "metadata": {},
   "outputs": [],
   "source": [
    "s_eigen_norm"
   ]
  },
  {
   "cell_type": "code",
   "execution_count": null,
   "metadata": {
    "scrolled": true
   },
   "outputs": [],
   "source": [
    "fig = plt.figure()\n",
    "plt.plot(s_eigen_norm)\n",
    "plt.xlabel('Singulárních hodnoty')\n",
    "plt.ylabel('Poměr vůči nejvyšší singulární hodnotě')\n",
    "fig.savefig('../report/images/singular_values.png')\n",
    "plt.show()"
   ]
  },
  {
   "cell_type": "code",
   "execution_count": null,
   "metadata": {},
   "outputs": [],
   "source": [
    "# Cas vykonani dotazu pri sekvencnim pruchodu vs LSI pruchodu databazi"
   ]
  },
  {
   "cell_type": "code",
   "execution_count": 7,
   "metadata": {},
   "outputs": [
    {
     "name": "stdout",
     "output_type": "stream",
     "text": [
      "Čas vykonání dotazu při sekvenčním průchodu databází: 0.17969512939453125 sekund\n"
     ]
    }
   ],
   "source": [
    "df_concept_by_doc, df_query_projection = transform_to_concept_space(df_tf_idf, k=0, customSVD=False)\n",
    "\n",
    "start = time.time()\n",
    "best_match = get_n_nearest(df_tf_idf,df_concept_by_doc, df_query_projection, 999, n=10)\n",
    "end = time.time()\n",
    "time_seq = end - start\n",
    "print(\"Čas vykonání dotazu při sekvenčním průchodu databází: \" + str(time_seq) + \" sekund\")"
   ]
  },
  {
   "cell_type": "code",
   "execution_count": 8,
   "metadata": {},
   "outputs": [
    {
     "name": "stdout",
     "output_type": "stream",
     "text": [
      "Čas vykonání dotazu při průchodu databází pomocí LSI vektorového modelu: 0.11586117744445801 sekund\n"
     ]
    }
   ],
   "source": [
    "df_concept_by_doc, df_query_projection = transform_to_concept_space(df_tf_idf, k=200, customSVD=False)\n",
    "\n",
    "start = time.time()\n",
    "best_match = get_n_nearest(df_tf_idf,df_concept_by_doc, df_query_projection, 999, n=10)\n",
    "end = time.time()\n",
    "time_norm = end - start\n",
    "print(\"Čas vykonání dotazu při průchodu databází pomocí LSI vektorového modelu: \" + str(time_norm) + \" sekund\")"
   ]
  },
  {
   "cell_type": "code",
   "execution_count": 9,
   "metadata": {},
   "outputs": [
    {
     "name": "stdout",
     "output_type": "stream",
     "text": [
      "Rozdíl: 0.06383395195007324\n"
     ]
    }
   ],
   "source": [
    "print(\"Rozdíl: \" + str(time_seq - time_norm))"
   ]
  }
 ],
 "metadata": {
  "kernelspec": {
   "display_name": "Python 3",
   "language": "python",
   "name": "python3"
  },
  "language_info": {
   "codemirror_mode": {
    "name": "ipython",
    "version": 3
   },
   "file_extension": ".py",
   "mimetype": "text/x-python",
   "name": "python",
   "nbconvert_exporter": "python",
   "pygments_lexer": "ipython3",
   "version": "3.8.1"
  }
 },
 "nbformat": 4,
 "nbformat_minor": 4
}
