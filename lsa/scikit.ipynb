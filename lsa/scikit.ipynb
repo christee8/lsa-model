{
 "cells": [
  {
   "cell_type": "code",
   "execution_count": 1,
   "metadata": {
    "ExecuteTime": {
     "end_time": "2020-05-04T10:48:20.431482Z",
     "start_time": "2020-05-04T10:48:20.339909Z"
    }
   },
   "outputs": [],
   "source": [
    "%load_ext autoreload\n",
    "%autoreload 2\n",
    "%reload_ext autoreload"
   ]
  },
  {
   "cell_type": "code",
   "execution_count": 32,
   "metadata": {
    "ExecuteTime": {
     "end_time": "2020-05-04T11:11:57.580441Z",
     "start_time": "2020-05-04T11:11:57.482688Z"
    }
   },
   "outputs": [],
   "source": [
    "from lsa import *"
   ]
  },
  {
   "cell_type": "code",
   "execution_count": 2,
   "metadata": {
    "ExecuteTime": {
     "end_time": "2020-05-04T10:48:20.904309Z",
     "start_time": "2020-05-04T10:48:20.435170Z"
    }
   },
   "outputs": [],
   "source": [
    "import os.path\n",
    "import pandas as pd"
   ]
  },
  {
   "cell_type": "code",
   "execution_count": 3,
   "metadata": {
    "ExecuteTime": {
     "end_time": "2020-05-04T10:48:21.032283Z",
     "start_time": "2020-05-04T10:48:20.906304Z"
    }
   },
   "outputs": [],
   "source": [
    "df = pd.read_csv('tmp.csv')"
   ]
  },
  {
   "cell_type": "markdown",
   "metadata": {},
   "source": [
    "### https://medium.com/@adi_enasoaie/easy-lsi-pipeline-using-scikit-learn-a073f2484408"
   ]
  },
  {
   "cell_type": "code",
   "execution_count": 4,
   "metadata": {
    "ExecuteTime": {
     "end_time": "2020-05-04T10:48:21.921648Z",
     "start_time": "2020-05-04T10:48:21.035174Z"
    }
   },
   "outputs": [],
   "source": [
    "from sklearn.feature_extraction.text import TfidfVectorizer\n",
    "from nltk.tokenize import RegexpTokenizer, SnowballStemmer\n",
    "from nltk.stem import LancasterStemmer\n",
    "from sklearn.decomposition import TruncatedSVD\n"
   ]
  },
  {
   "cell_type": "code",
   "execution_count": 64,
   "metadata": {
    "ExecuteTime": {
     "end_time": "2020-05-04T12:02:48.808198Z",
     "start_time": "2020-05-04T12:02:48.704466Z"
    }
   },
   "outputs": [
    {
     "data": {
      "text/plain": [
       "0       Patrick Sullivan (Jeffrey Dean Morgan) is look...\n",
       "1       On Thanksgiving Day, 1983, student Marty Pasca...\n",
       "2       Spencer Davenport and his sister Katherine mus...\n",
       "3       Jamal Walker (Martin Lawrence) is an everyday ...\n",
       "4       The people of Harford Road are firmly divided ...\n",
       "                              ...                        \n",
       "2050    Beavis and Butt-head introduced the film by ex...\n",
       "2051    Sinbad and his pirate crew attempt to steal th...\n",
       "2052    Within the kingdom of Emir, in the town of Fre...\n",
       "2053    The film is set in New America in the year 209...\n",
       "2054    A 20-year-old man named Joseph \"Jody\" Summers ...\n",
       "Name: content, Length: 2055, dtype: object"
      ]
     },
     "execution_count": 64,
     "metadata": {},
     "output_type": "execute_result"
    }
   ],
   "source": [
    "x_train"
   ]
  },
  {
   "cell_type": "code",
   "execution_count": 45,
   "metadata": {
    "ExecuteTime": {
     "end_time": "2020-05-04T11:58:22.351360Z",
     "start_time": "2020-05-04T11:58:22.258602Z"
    }
   },
   "outputs": [],
   "source": [
    "class Tokenizer(object):\n",
    "    def __init__(self):\n",
    "        self.tok = RegexpTokenizer(r'\\w+')\n",
    "        self.stemmer = SnowballStemmer('english')\n",
    "    def __call__(self, doc):\n",
    "        return [self.stemmer.stem(token) \n",
    "                for token in self.tok.tokenize(doc)]"
   ]
  },
  {
   "cell_type": "code",
   "execution_count": 67,
   "metadata": {
    "ExecuteTime": {
     "end_time": "2020-05-04T12:20:29.668167Z",
     "start_time": "2020-05-04T12:20:29.542505Z"
    }
   },
   "outputs": [],
   "source": [
    "vectorizer = TfidfVectorizer(tokenizer=Tokenizer(),\n",
    "                             stop_words='english', \n",
    "                             use_idf=True, \n",
    "                             smooth_idf=True,\n",
    "                                )"
   ]
  },
  {
   "cell_type": "code",
   "execution_count": 7,
   "metadata": {
    "ExecuteTime": {
     "end_time": "2020-05-04T10:48:22.195217Z",
     "start_time": "2020-05-04T10:48:22.105129Z"
    }
   },
   "outputs": [],
   "source": [
    "svd_model = TruncatedSVD(n_components=500, \n",
    "                         algorithm='randomized',\n",
    "                         n_iter=10, random_state=42)"
   ]
  },
  {
   "cell_type": "code",
   "execution_count": 9,
   "metadata": {
    "ExecuteTime": {
     "end_time": "2020-05-04T10:48:33.716409Z",
     "start_time": "2020-05-04T10:48:33.617673Z"
    }
   },
   "outputs": [],
   "source": [
    "df = df.reindex()"
   ]
  },
  {
   "cell_type": "code",
   "execution_count": 10,
   "metadata": {
    "ExecuteTime": {
     "end_time": "2020-05-04T10:48:33.928613Z",
     "start_time": "2020-05-04T10:48:33.838111Z"
    }
   },
   "outputs": [],
   "source": [
    "x_train = df['content']"
   ]
  },
  {
   "cell_type": "code",
   "execution_count": 11,
   "metadata": {
    "ExecuteTime": {
     "end_time": "2020-05-04T10:49:06.244833Z",
     "start_time": "2020-05-04T10:48:35.633291Z"
    }
   },
   "outputs": [
    {
     "name": "stderr",
     "output_type": "stream",
     "text": [
      "C:\\Users\\david\\Anaconda3\\envs\\foo\\lib\\site-packages\\sklearn\\feature_extraction\\text.py:385: UserWarning: Your stop_words may be inconsistent with your preprocessing. Tokenizing the stop words generated tokens ['abov', 'aft', 'afterward', 'al', 'alon', 'alway', 'anoth', 'anyon', 'anyth', 'anywh', 'ar', 'becam', 'becaus', 'becom', 'bef', 'besid', 'bil', 'cal', 'describ', 'don', 'dur', 'eith', 'elev', 'els', 'elsewh', 'ev', 'everyon', 'everyth', 'everywh', 'exceiv', 'fil', 'fir', 'fiv', 'form', 'ful', 'furth', 'giv', 'hav', 'hent', 'hereaft', 'howev', 'hundr', 'indee', 'int', 'lat', 'mad', 'meanwhil', 'mil', 'min', 'mor', 'moreov', 'mov', 'nam', 'neith', 'nev', 'nin', 'non', 'noon', 'noth', 'nowh', 'oft', 'ont', 'oth', 'otherw', 'ourselv', 'ov', 'perhap', 'pleas', 'rath', 'sam', 'sery', 'sev', 'sid', 'sint', 'som', 'someon', 'someth', 'sometim', 'somewh', 'stil', 'tak', 'themselv', 'thent', 'ther', 'thereaft', 'theref', 'thes', 'thi', 'thos', 'thu', 'togeth', 'twelv', 'und', 'wel', 'wer', 'whatev', 'whenev', 'whent', 'wher', 'wherea', 'whereaft', 'wherev', 'wheth', 'whil', 'whith', 'whoev', 'whol', 'whos', 'wil', 'yo', 'yourselv'] not in stop_words.\n",
      "  'stop_words.' % sorted(inconsistent))\n"
     ]
    }
   ],
   "source": [
    "from sklearn.pipeline import Pipeline\n",
    "svd_transformer = Pipeline([('tfidf', vectorizer), \n",
    "                            ('svd', svd_model)])\n",
    "\n",
    "svd_matrix = svd_transformer.fit_transform(x_train)"
   ]
  },
  {
   "cell_type": "code",
   "execution_count": 12,
   "metadata": {
    "ExecuteTime": {
     "end_time": "2020-05-04T10:49:06.386912Z",
     "start_time": "2020-05-04T10:49:06.246828Z"
    }
   },
   "outputs": [
    {
     "data": {
      "text/html": [
       "<div>\n",
       "<style scoped>\n",
       "    .dataframe tbody tr th:only-of-type {\n",
       "        vertical-align: middle;\n",
       "    }\n",
       "\n",
       "    .dataframe tbody tr th {\n",
       "        vertical-align: top;\n",
       "    }\n",
       "\n",
       "    .dataframe thead th {\n",
       "        text-align: right;\n",
       "    }\n",
       "</style>\n",
       "<table border=\"1\" class=\"dataframe\">\n",
       "  <thead>\n",
       "    <tr style=\"text-align: right;\">\n",
       "      <th></th>\n",
       "      <th>Release Year</th>\n",
       "      <th>title</th>\n",
       "      <th>Origin/Ethnicity</th>\n",
       "      <th>author</th>\n",
       "      <th>Cast</th>\n",
       "      <th>Genre</th>\n",
       "      <th>link</th>\n",
       "      <th>content</th>\n",
       "      <th>movies</th>\n",
       "    </tr>\n",
       "  </thead>\n",
       "  <tbody>\n",
       "    <tr>\n",
       "      <th>420</th>\n",
       "      <td>1996</td>\n",
       "      <td>Star Trek: First Contact</td>\n",
       "      <td>American</td>\n",
       "      <td>Jonathan Frakes</td>\n",
       "      <td>Patrick Stewart, Brent Spiner, LeVar Burton, J...</td>\n",
       "      <td>science fiction</td>\n",
       "      <td>https://en.wikipedia.org/wiki/Star_Trek:_First...</td>\n",
       "      <td>It is the 24th century. Captain Jean Luc Picar...</td>\n",
       "      <td>3</td>\n",
       "    </tr>\n",
       "    <tr>\n",
       "      <th>536</th>\n",
       "      <td>1998</td>\n",
       "      <td>Star Trek: Insurrection</td>\n",
       "      <td>American</td>\n",
       "      <td>Jonathan Frakes</td>\n",
       "      <td>Patrick Stewart, F. Murray Abraham, Donna Murphy</td>\n",
       "      <td>science fiction</td>\n",
       "      <td>https://en.wikipedia.org/wiki/Star_Trek:_Insur...</td>\n",
       "      <td>Lieutenant Commander Data (Brent Spiner) is te...</td>\n",
       "      <td>3</td>\n",
       "    </tr>\n",
       "    <tr>\n",
       "      <th>894</th>\n",
       "      <td>2002</td>\n",
       "      <td>Star Trek Nemesis</td>\n",
       "      <td>American</td>\n",
       "      <td>Stuart Baird</td>\n",
       "      <td>Patrick Stewart, Jonathan Frakes, Brent Spiner...</td>\n",
       "      <td>science fiction</td>\n",
       "      <td>https://en.wikipedia.org/wiki/Star_Trek_Nemesis</td>\n",
       "      <td>On Romulus, members of the Romulan Imperial Se...</td>\n",
       "      <td>3</td>\n",
       "    </tr>\n",
       "    <tr>\n",
       "      <th>1761</th>\n",
       "      <td>1994</td>\n",
       "      <td>Star Trek Generations</td>\n",
       "      <td>American</td>\n",
       "      <td>David Carson</td>\n",
       "      <td>Patrick Stewart, William Shatner</td>\n",
       "      <td>science fiction</td>\n",
       "      <td>https://en.wikipedia.org/wiki/Star_Trek_Genera...</td>\n",
       "      <td>In the year 2293, retired Captain James T. Kir...</td>\n",
       "      <td>1</td>\n",
       "    </tr>\n",
       "  </tbody>\n",
       "</table>\n",
       "</div>"
      ],
      "text/plain": [
       "      Release Year                     title Origin/Ethnicity  \\\n",
       "420           1996  Star Trek: First Contact         American   \n",
       "536           1998   Star Trek: Insurrection         American   \n",
       "894           2002         Star Trek Nemesis         American   \n",
       "1761          1994     Star Trek Generations         American   \n",
       "\n",
       "               author                                               Cast  \\\n",
       "420   Jonathan Frakes  Patrick Stewart, Brent Spiner, LeVar Burton, J...   \n",
       "536   Jonathan Frakes   Patrick Stewart, F. Murray Abraham, Donna Murphy   \n",
       "894      Stuart Baird  Patrick Stewart, Jonathan Frakes, Brent Spiner...   \n",
       "1761     David Carson                   Patrick Stewart, William Shatner   \n",
       "\n",
       "                Genre                                               link  \\\n",
       "420   science fiction  https://en.wikipedia.org/wiki/Star_Trek:_First...   \n",
       "536   science fiction  https://en.wikipedia.org/wiki/Star_Trek:_Insur...   \n",
       "894   science fiction    https://en.wikipedia.org/wiki/Star_Trek_Nemesis   \n",
       "1761  science fiction  https://en.wikipedia.org/wiki/Star_Trek_Genera...   \n",
       "\n",
       "                                                content  movies  \n",
       "420   It is the 24th century. Captain Jean Luc Picar...       3  \n",
       "536   Lieutenant Commander Data (Brent Spiner) is te...       3  \n",
       "894   On Romulus, members of the Romulan Imperial Se...       3  \n",
       "1761  In the year 2293, retired Captain James T. Kir...       1  "
      ]
     },
     "execution_count": 12,
     "metadata": {},
     "output_type": "execute_result"
    }
   ],
   "source": [
    "df[df.title.str.contains('Star Trek')]"
   ]
  },
  {
   "cell_type": "code",
   "execution_count": 13,
   "metadata": {
    "ExecuteTime": {
     "end_time": "2020-05-04T10:49:08.988668Z",
     "start_time": "2020-05-04T10:49:08.894546Z"
    }
   },
   "outputs": [],
   "source": [
    "q = x_train.loc[420]"
   ]
  },
  {
   "cell_type": "code",
   "execution_count": 24,
   "metadata": {
    "ExecuteTime": {
     "end_time": "2020-05-04T10:50:12.066686Z",
     "start_time": "2020-05-04T10:50:11.888870Z"
    }
   },
   "outputs": [],
   "source": [
    "query_vector = svd_transformer.transform([q])"
   ]
  },
  {
   "cell_type": "code",
   "execution_count": 25,
   "metadata": {
    "ExecuteTime": {
     "end_time": "2020-05-04T10:50:12.701008Z",
     "start_time": "2020-05-04T10:50:12.606258Z"
    }
   },
   "outputs": [
    {
     "data": {
      "text/plain": [
       "(1, 500)"
      ]
     },
     "execution_count": 25,
     "metadata": {},
     "output_type": "execute_result"
    }
   ],
   "source": [
    "query_vector.shape"
   ]
  },
  {
   "cell_type": "code",
   "execution_count": 26,
   "metadata": {
    "ExecuteTime": {
     "end_time": "2020-05-04T10:50:13.408670Z",
     "start_time": "2020-05-04T10:50:13.211192Z"
    }
   },
   "outputs": [],
   "source": [
    "from sklearn.metrics import pairwise_distances\n",
    "distance_matrix = pairwise_distances(query_vector, \n",
    "                                     svd_matrix, \n",
    "                                     metric='cosine', \n",
    "                                     n_jobs=-1)"
   ]
  },
  {
   "cell_type": "code",
   "execution_count": 27,
   "metadata": {
    "ExecuteTime": {
     "end_time": "2020-05-04T10:50:14.426819Z",
     "start_time": "2020-05-04T10:50:14.316114Z"
    }
   },
   "outputs": [
    {
     "data": {
      "text/plain": [
       "(2055, 10)"
      ]
     },
     "execution_count": 27,
     "metadata": {},
     "output_type": "execute_result"
    }
   ],
   "source": [
    "df.shape"
   ]
  },
  {
   "cell_type": "code",
   "execution_count": 28,
   "metadata": {
    "ExecuteTime": {
     "end_time": "2020-05-04T10:50:15.223906Z",
     "start_time": "2020-05-04T10:50:15.128176Z"
    }
   },
   "outputs": [
    {
     "data": {
      "text/plain": [
       "(1, 2055)"
      ]
     },
     "execution_count": 28,
     "metadata": {},
     "output_type": "execute_result"
    }
   ],
   "source": [
    "distance_matrix.shape"
   ]
  },
  {
   "cell_type": "code",
   "execution_count": 29,
   "metadata": {
    "ExecuteTime": {
     "end_time": "2020-05-04T10:50:16.093700Z",
     "start_time": "2020-05-04T10:50:16.005351Z"
    }
   },
   "outputs": [],
   "source": [
    "df['dist'] = distance_matrix[0]"
   ]
  },
  {
   "cell_type": "code",
   "execution_count": 30,
   "metadata": {
    "ExecuteTime": {
     "end_time": "2020-05-04T10:50:16.950122Z",
     "start_time": "2020-05-04T10:50:16.842411Z"
    }
   },
   "outputs": [
    {
     "data": {
      "text/html": [
       "<div>\n",
       "<style scoped>\n",
       "    .dataframe tbody tr th:only-of-type {\n",
       "        vertical-align: middle;\n",
       "    }\n",
       "\n",
       "    .dataframe tbody tr th {\n",
       "        vertical-align: top;\n",
       "    }\n",
       "\n",
       "    .dataframe thead th {\n",
       "        text-align: right;\n",
       "    }\n",
       "</style>\n",
       "<table border=\"1\" class=\"dataframe\">\n",
       "  <thead>\n",
       "    <tr style=\"text-align: right;\">\n",
       "      <th></th>\n",
       "      <th>Release Year</th>\n",
       "      <th>title</th>\n",
       "      <th>Origin/Ethnicity</th>\n",
       "      <th>author</th>\n",
       "      <th>Cast</th>\n",
       "      <th>Genre</th>\n",
       "      <th>link</th>\n",
       "      <th>content</th>\n",
       "      <th>movies</th>\n",
       "      <th>dist</th>\n",
       "    </tr>\n",
       "  </thead>\n",
       "  <tbody>\n",
       "    <tr>\n",
       "      <th>420</th>\n",
       "      <td>1996</td>\n",
       "      <td>Star Trek: First Contact</td>\n",
       "      <td>American</td>\n",
       "      <td>Jonathan Frakes</td>\n",
       "      <td>Patrick Stewart, Brent Spiner, LeVar Burton, J...</td>\n",
       "      <td>science fiction</td>\n",
       "      <td>https://en.wikipedia.org/wiki/Star_Trek:_First...</td>\n",
       "      <td>It is the 24th century. Captain Jean Luc Picar...</td>\n",
       "      <td>3</td>\n",
       "      <td>0.000000</td>\n",
       "    </tr>\n",
       "    <tr>\n",
       "      <th>894</th>\n",
       "      <td>2002</td>\n",
       "      <td>Star Trek Nemesis</td>\n",
       "      <td>American</td>\n",
       "      <td>Stuart Baird</td>\n",
       "      <td>Patrick Stewart, Jonathan Frakes, Brent Spiner...</td>\n",
       "      <td>science fiction</td>\n",
       "      <td>https://en.wikipedia.org/wiki/Star_Trek_Nemesis</td>\n",
       "      <td>On Romulus, members of the Romulan Imperial Se...</td>\n",
       "      <td>3</td>\n",
       "      <td>0.149749</td>\n",
       "    </tr>\n",
       "    <tr>\n",
       "      <th>536</th>\n",
       "      <td>1998</td>\n",
       "      <td>Star Trek: Insurrection</td>\n",
       "      <td>American</td>\n",
       "      <td>Jonathan Frakes</td>\n",
       "      <td>Patrick Stewart, F. Murray Abraham, Donna Murphy</td>\n",
       "      <td>science fiction</td>\n",
       "      <td>https://en.wikipedia.org/wiki/Star_Trek:_Insur...</td>\n",
       "      <td>Lieutenant Commander Data (Brent Spiner) is te...</td>\n",
       "      <td>3</td>\n",
       "      <td>0.173106</td>\n",
       "    </tr>\n",
       "    <tr>\n",
       "      <th>1761</th>\n",
       "      <td>1994</td>\n",
       "      <td>Star Trek Generations</td>\n",
       "      <td>American</td>\n",
       "      <td>David Carson</td>\n",
       "      <td>Patrick Stewart, William Shatner</td>\n",
       "      <td>science fiction</td>\n",
       "      <td>https://en.wikipedia.org/wiki/Star_Trek_Genera...</td>\n",
       "      <td>In the year 2293, retired Captain James T. Kir...</td>\n",
       "      <td>1</td>\n",
       "      <td>0.180354</td>\n",
       "    </tr>\n",
       "    <tr>\n",
       "      <th>1226</th>\n",
       "      <td>2016</td>\n",
       "      <td>Independence Day: Resurgence</td>\n",
       "      <td>American</td>\n",
       "      <td>Roland Emmerich</td>\n",
       "      <td>Liam Hemsworth\\r\\nMaika Monroe\\r\\nJeff Goldblum</td>\n",
       "      <td>science fiction</td>\n",
       "      <td>https://en.wikipedia.org/wiki/Independence_Day...</td>\n",
       "      <td>Twenty years after the devastating alien invas...</td>\n",
       "      <td>4</td>\n",
       "      <td>0.624323</td>\n",
       "    </tr>\n",
       "    <tr>\n",
       "      <th>...</th>\n",
       "      <td>...</td>\n",
       "      <td>...</td>\n",
       "      <td>...</td>\n",
       "      <td>...</td>\n",
       "      <td>...</td>\n",
       "      <td>...</td>\n",
       "      <td>...</td>\n",
       "      <td>...</td>\n",
       "      <td>...</td>\n",
       "      <td>...</td>\n",
       "    </tr>\n",
       "    <tr>\n",
       "      <th>1698</th>\n",
       "      <td>1991</td>\n",
       "      <td>Road to Ruin</td>\n",
       "      <td>American</td>\n",
       "      <td>Charlotte Brandon</td>\n",
       "      <td>Peter Weller, Carey Lowell</td>\n",
       "      <td>comedy</td>\n",
       "      <td>https://en.wikipedia.org/wiki/Road_to_Ruin_(19...</td>\n",
       "      <td>Peter Weller plays a wealthy American business...</td>\n",
       "      <td>1</td>\n",
       "      <td>0.998459</td>\n",
       "    </tr>\n",
       "    <tr>\n",
       "      <th>267</th>\n",
       "      <td>1993</td>\n",
       "      <td>The Young Americans</td>\n",
       "      <td>British</td>\n",
       "      <td>Danny Cannon</td>\n",
       "      <td>Harvey Keitel, Iain Glen</td>\n",
       "      <td>crime drama</td>\n",
       "      <td>https://en.wikipedia.org/wiki/The_Young_Americ...</td>\n",
       "      <td>Harvey Keitel plays an American cop who travel...</td>\n",
       "      <td>2</td>\n",
       "      <td>1.000289</td>\n",
       "    </tr>\n",
       "    <tr>\n",
       "      <th>892</th>\n",
       "      <td>1993</td>\n",
       "      <td>Excessive Force</td>\n",
       "      <td>American</td>\n",
       "      <td>Jon Hess</td>\n",
       "      <td>Thomas Ian Griffith, Lance Henriksen</td>\n",
       "      <td>action</td>\n",
       "      <td>https://en.wikipedia.org/wiki/Excessive_Force_...</td>\n",
       "      <td>Terry McCain (Thomas Ian Griffith) is a police...</td>\n",
       "      <td>1</td>\n",
       "      <td>1.002482</td>\n",
       "    </tr>\n",
       "    <tr>\n",
       "      <th>884</th>\n",
       "      <td>2017</td>\n",
       "      <td>Donald Cried</td>\n",
       "      <td>American</td>\n",
       "      <td>Kristopher Avedisian</td>\n",
       "      <td>Kristopher Avedisian (director/screenplay); Kr...</td>\n",
       "      <td>comedy</td>\n",
       "      <td>https://en.wikipedia.org/wiki/Donald_Cried</td>\n",
       "      <td>A Manhattanite banker returns to his hometown ...</td>\n",
       "      <td>1</td>\n",
       "      <td>1.004935</td>\n",
       "    </tr>\n",
       "    <tr>\n",
       "      <th>665</th>\n",
       "      <td>2005</td>\n",
       "      <td>Traci Townsend</td>\n",
       "      <td>American</td>\n",
       "      <td>Craig Ross, Jr.</td>\n",
       "      <td>Jazsmin Lewis, Mari Morrow</td>\n",
       "      <td>comedy</td>\n",
       "      <td>https://en.wikipedia.org/wiki/Traci_Townsend</td>\n",
       "      <td>A beautiful and successful journalist intervie...</td>\n",
       "      <td>1</td>\n",
       "      <td>1.006659</td>\n",
       "    </tr>\n",
       "  </tbody>\n",
       "</table>\n",
       "<p>2055 rows × 10 columns</p>\n",
       "</div>"
      ],
      "text/plain": [
       "      Release Year                         title Origin/Ethnicity  \\\n",
       "420           1996      Star Trek: First Contact         American   \n",
       "894           2002             Star Trek Nemesis         American   \n",
       "536           1998       Star Trek: Insurrection         American   \n",
       "1761          1994         Star Trek Generations         American   \n",
       "1226          2016  Independence Day: Resurgence         American   \n",
       "...            ...                           ...              ...   \n",
       "1698          1991                  Road to Ruin         American   \n",
       "267           1993           The Young Americans          British   \n",
       "892           1993               Excessive Force         American   \n",
       "884           2017                  Donald Cried         American   \n",
       "665           2005                Traci Townsend         American   \n",
       "\n",
       "                    author                                               Cast  \\\n",
       "420        Jonathan Frakes  Patrick Stewart, Brent Spiner, LeVar Burton, J...   \n",
       "894           Stuart Baird  Patrick Stewart, Jonathan Frakes, Brent Spiner...   \n",
       "536        Jonathan Frakes   Patrick Stewart, F. Murray Abraham, Donna Murphy   \n",
       "1761          David Carson                   Patrick Stewart, William Shatner   \n",
       "1226       Roland Emmerich    Liam Hemsworth\\r\\nMaika Monroe\\r\\nJeff Goldblum   \n",
       "...                    ...                                                ...   \n",
       "1698     Charlotte Brandon                         Peter Weller, Carey Lowell   \n",
       "267           Danny Cannon                           Harvey Keitel, Iain Glen   \n",
       "892               Jon Hess               Thomas Ian Griffith, Lance Henriksen   \n",
       "884   Kristopher Avedisian  Kristopher Avedisian (director/screenplay); Kr...   \n",
       "665        Craig Ross, Jr.                         Jazsmin Lewis, Mari Morrow   \n",
       "\n",
       "                Genre                                               link  \\\n",
       "420   science fiction  https://en.wikipedia.org/wiki/Star_Trek:_First...   \n",
       "894   science fiction    https://en.wikipedia.org/wiki/Star_Trek_Nemesis   \n",
       "536   science fiction  https://en.wikipedia.org/wiki/Star_Trek:_Insur...   \n",
       "1761  science fiction  https://en.wikipedia.org/wiki/Star_Trek_Genera...   \n",
       "1226  science fiction  https://en.wikipedia.org/wiki/Independence_Day...   \n",
       "...               ...                                                ...   \n",
       "1698           comedy  https://en.wikipedia.org/wiki/Road_to_Ruin_(19...   \n",
       "267       crime drama  https://en.wikipedia.org/wiki/The_Young_Americ...   \n",
       "892            action  https://en.wikipedia.org/wiki/Excessive_Force_...   \n",
       "884            comedy         https://en.wikipedia.org/wiki/Donald_Cried   \n",
       "665            comedy       https://en.wikipedia.org/wiki/Traci_Townsend   \n",
       "\n",
       "                                                content  movies      dist  \n",
       "420   It is the 24th century. Captain Jean Luc Picar...       3  0.000000  \n",
       "894   On Romulus, members of the Romulan Imperial Se...       3  0.149749  \n",
       "536   Lieutenant Commander Data (Brent Spiner) is te...       3  0.173106  \n",
       "1761  In the year 2293, retired Captain James T. Kir...       1  0.180354  \n",
       "1226  Twenty years after the devastating alien invas...       4  0.624323  \n",
       "...                                                 ...     ...       ...  \n",
       "1698  Peter Weller plays a wealthy American business...       1  0.998459  \n",
       "267   Harvey Keitel plays an American cop who travel...       2  1.000289  \n",
       "892   Terry McCain (Thomas Ian Griffith) is a police...       1  1.002482  \n",
       "884   A Manhattanite banker returns to his hometown ...       1  1.004935  \n",
       "665   A beautiful and successful journalist intervie...       1  1.006659  \n",
       "\n",
       "[2055 rows x 10 columns]"
      ]
     },
     "execution_count": 30,
     "metadata": {},
     "output_type": "execute_result"
    }
   ],
   "source": [
    "df.sort_values('dist')"
   ]
  },
  {
   "cell_type": "markdown",
   "metadata": {},
   "source": [
    "### Vectorizer output"
   ]
  },
  {
   "cell_type": "code",
   "execution_count": 87,
   "metadata": {
    "ExecuteTime": {
     "end_time": "2020-05-04T13:13:38.619652Z",
     "start_time": "2020-05-04T13:13:26.102812Z"
    }
   },
   "outputs": [],
   "source": [
    "out = vectorizer.fit_transform(x_train)"
   ]
  },
  {
   "cell_type": "code",
   "execution_count": 88,
   "metadata": {
    "ExecuteTime": {
     "end_time": "2020-05-04T13:13:38.892602Z",
     "start_time": "2020-05-04T13:13:38.621376Z"
    }
   },
   "outputs": [
    {
     "data": {
      "text/plain": [
       "0       0.000000\n",
       "1       0.000000\n",
       "2       0.000000\n",
       "3       0.000000\n",
       "4       0.000000\n",
       "          ...   \n",
       "2050    0.000000\n",
       "2051    0.018991\n",
       "2052    0.000000\n",
       "2053    0.000000\n",
       "2054    0.000000\n",
       "Name: god, Length: 2055, dtype: float64"
      ]
     },
     "execution_count": 88,
     "metadata": {},
     "output_type": "execute_result"
    }
   ],
   "source": [
    "pd.DataFrame(out.A, columns=vectorizer.get_feature_names())['god']"
   ]
  },
  {
   "cell_type": "code",
   "execution_count": 90,
   "metadata": {
    "ExecuteTime": {
     "end_time": "2020-05-04T13:26:29.020883Z",
     "start_time": "2020-05-04T13:26:28.916162Z"
    }
   },
   "outputs": [
    {
     "ename": "NameError",
     "evalue": "name 'df_reduced' is not defined",
     "output_type": "error",
     "traceback": [
      "\u001b[1;31m---------------------------------------------------------------------------\u001b[0m",
      "\u001b[1;31mNameError\u001b[0m                                 Traceback (most recent call last)",
      "\u001b[1;32m<ipython-input-90-45ebc92644ae>\u001b[0m in \u001b[0;36m<module>\u001b[1;34m\u001b[0m\n\u001b[1;32m----> 1\u001b[1;33m \u001b[0mdf\u001b[0m \u001b[1;33m=\u001b[0m \u001b[0mdf_reduced\u001b[0m\u001b[1;33m.\u001b[0m\u001b[0mcopy\u001b[0m\u001b[1;33m(\u001b[0m\u001b[1;33m)\u001b[0m\u001b[1;33m\u001b[0m\u001b[1;33m\u001b[0m\u001b[0m\n\u001b[0m\u001b[0;32m      2\u001b[0m \u001b[1;33m\u001b[0m\u001b[0m\n\u001b[0;32m      3\u001b[0m \u001b[0mdf\u001b[0m \u001b[1;33m=\u001b[0m \u001b[0mdf\u001b[0m\u001b[1;33m.\u001b[0m\u001b[0mdrop\u001b[0m\u001b[1;33m(\u001b[0m\u001b[1;34m'doc_frequency'\u001b[0m\u001b[1;33m,\u001b[0m \u001b[0maxis\u001b[0m\u001b[1;33m=\u001b[0m\u001b[1;36m1\u001b[0m\u001b[1;33m)\u001b[0m\u001b[1;33m\u001b[0m\u001b[1;33m\u001b[0m\u001b[0m\n\u001b[0;32m      4\u001b[0m \u001b[1;31m# tf := word frequency / total frequency\u001b[0m\u001b[1;33m\u001b[0m\u001b[1;33m\u001b[0m\u001b[1;33m\u001b[0m\u001b[0m\n\u001b[0;32m      5\u001b[0m \u001b[1;31m# @TODO: amax? vs sum?\u001b[0m\u001b[1;33m\u001b[0m\u001b[1;33m\u001b[0m\u001b[1;33m\u001b[0m\u001b[0m\n",
      "\u001b[1;31mNameError\u001b[0m: name 'df_reduced' is not defined"
     ]
    }
   ],
   "source": []
  }
 ],
 "metadata": {
  "kernelspec": {
   "display_name": "Python 3",
   "language": "python",
   "name": "python3"
  },
  "language_info": {
   "codemirror_mode": {
    "name": "ipython",
    "version": 3
   },
   "file_extension": ".py",
   "mimetype": "text/x-python",
   "name": "python",
   "nbconvert_exporter": "python",
   "pygments_lexer": "ipython3",
   "version": "3.7.6"
  }
 },
 "nbformat": 4,
 "nbformat_minor": 4
}
