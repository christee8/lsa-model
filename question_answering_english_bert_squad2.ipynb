{
  "nbformat": 4,
  "nbformat_minor": 0,
  "metadata": {
    "colab": {
      "name": "question_answering_english_bert_squad2.ipynb",
      "provenance": [],
      "collapsed_sections": [],
      "authorship_tag": "ABX9TyNm80foWty3d1ZUe29sOWB4",
      "include_colab_link": true
    },
    "kernelspec": {
      "name": "python3",
      "display_name": "Python 3"
    }
  },
  "cells": [
    {
      "cell_type": "markdown",
      "metadata": {
        "id": "view-in-github",
        "colab_type": "text"
      },
      "source": [
        "<a href=\"https://colab.research.google.com/github/christee8/lsa-model/blob/master/question_answering_english_bert_squad2.ipynb\" target=\"_parent\"><img src=\"https://colab.research.google.com/assets/colab-badge.svg\" alt=\"Open In Colab\"/></a>"
      ]
    },
    {
      "cell_type": "code",
      "metadata": {
        "id": "aPxBQqR5G8Qq",
        "colab_type": "code",
        "colab": {
          "base_uri": "https://localhost:8080/",
          "height": 355
        },
        "outputId": "6ccca796-8708-47e9-f488-ae7ab441e5c8"
      },
      "source": [
        "!pip install transformers"
      ],
      "execution_count": 100,
      "outputs": [
        {
          "output_type": "stream",
          "text": [
            "Requirement already satisfied: transformers in /usr/local/lib/python3.6/dist-packages (3.0.2)\n",
            "Requirement already satisfied: sentencepiece!=0.1.92 in /usr/local/lib/python3.6/dist-packages (from transformers) (0.1.91)\n",
            "Requirement already satisfied: filelock in /usr/local/lib/python3.6/dist-packages (from transformers) (3.0.12)\n",
            "Requirement already satisfied: tokenizers==0.8.1.rc1 in /usr/local/lib/python3.6/dist-packages (from transformers) (0.8.1rc1)\n",
            "Requirement already satisfied: numpy in /usr/local/lib/python3.6/dist-packages (from transformers) (1.18.5)\n",
            "Requirement already satisfied: packaging in /usr/local/lib/python3.6/dist-packages (from transformers) (20.4)\n",
            "Requirement already satisfied: sacremoses in /usr/local/lib/python3.6/dist-packages (from transformers) (0.0.43)\n",
            "Requirement already satisfied: regex!=2019.12.17 in /usr/local/lib/python3.6/dist-packages (from transformers) (2019.12.20)\n",
            "Requirement already satisfied: tqdm>=4.27 in /usr/local/lib/python3.6/dist-packages (from transformers) (4.41.1)\n",
            "Requirement already satisfied: dataclasses; python_version < \"3.7\" in /usr/local/lib/python3.6/dist-packages (from transformers) (0.7)\n",
            "Requirement already satisfied: requests in /usr/local/lib/python3.6/dist-packages (from transformers) (2.23.0)\n",
            "Requirement already satisfied: pyparsing>=2.0.2 in /usr/local/lib/python3.6/dist-packages (from packaging->transformers) (2.4.7)\n",
            "Requirement already satisfied: six in /usr/local/lib/python3.6/dist-packages (from packaging->transformers) (1.15.0)\n",
            "Requirement already satisfied: joblib in /usr/local/lib/python3.6/dist-packages (from sacremoses->transformers) (0.16.0)\n",
            "Requirement already satisfied: click in /usr/local/lib/python3.6/dist-packages (from sacremoses->transformers) (7.1.2)\n",
            "Requirement already satisfied: certifi>=2017.4.17 in /usr/local/lib/python3.6/dist-packages (from requests->transformers) (2020.6.20)\n",
            "Requirement already satisfied: chardet<4,>=3.0.2 in /usr/local/lib/python3.6/dist-packages (from requests->transformers) (3.0.4)\n",
            "Requirement already satisfied: urllib3!=1.25.0,!=1.25.1,<1.26,>=1.21.1 in /usr/local/lib/python3.6/dist-packages (from requests->transformers) (1.24.3)\n",
            "Requirement already satisfied: idna<3,>=2.5 in /usr/local/lib/python3.6/dist-packages (from requests->transformers) (2.10)\n"
          ],
          "name": "stdout"
        }
      ]
    },
    {
      "cell_type": "code",
      "metadata": {
        "id": "K5a9Z7YS6N2-",
        "colab_type": "code",
        "colab": {}
      },
      "source": [
        "import torch\n",
        "import textwrap\n",
        "import time\n",
        "import numpy as np\n",
        "from transformers import AutoTokenizer, AutoModelForQuestionAnswering"
      ],
      "execution_count": 101,
      "outputs": []
    },
    {
      "cell_type": "code",
      "metadata": {
        "id": "b7gaslpT6WtV",
        "colab_type": "code",
        "colab": {}
      },
      "source": [
        "# https://huggingface.co/models?search=squad2\n",
        "\n",
        "model = AutoModelForQuestionAnswering.from_pretrained('deepset/bert-large-uncased-whole-word-masking-squad2')\n",
        "tokenizer = AutoTokenizer.from_pretrained('deepset/bert-large-uncased-whole-word-masking-squad2')\n",
        "\n",
        "# model = AutoModelForQuestionAnswering.from_pretrained('deepset/bert-base-cased-squad2')\n",
        "# tokenizer = AutoTokenizer.from_pretrained('deepset/bert-base-cased-squad2')"
      ],
      "execution_count": 103,
      "outputs": []
    },
    {
      "cell_type": "code",
      "metadata": {
        "id": "VeRNC7Bo0akN",
        "colab_type": "code",
        "colab": {}
      },
      "source": [
        "def decode_answer(start_idx, end_idx, tokens):\n",
        "    if tokens[start_idx] == '[CLS]' or tokens[end_idx] == '[CLS]' or tokens[start_idx] == '[SEP]':\n",
        "      return \"<No Answer>\"\n",
        "\n",
        "    answer = \"\"\n",
        "\n",
        "    for idx in range(start_idx, end_idx + 1):\n",
        "      if tokens[idx] == '[SEP]':\n",
        "        break\n",
        "      elif tokens[idx][0:2] == '##':\n",
        "          answer += tokens[idx][2:]\n",
        "      else:\n",
        "          if idx != start_idx:\n",
        "            answer += ' '\n",
        "          answer += tokens[idx]\n",
        "\n",
        "    return answer"
      ],
      "execution_count": 104,
      "outputs": []
    },
    {
      "cell_type": "code",
      "metadata": {
        "id": "ugVbwOWrNSoA",
        "colab_type": "code",
        "colab": {}
      },
      "source": [
        "def get_answer(start_scores, end_scores, input_ids):\n",
        "    start_idx = torch.argmax(start_scores)\n",
        "    end_idx = torch.argmax(end_scores)\n",
        "    tokens = tokenizer.convert_ids_to_tokens(input_ids)\n",
        "\n",
        "    # Invalid range of the answer span\n",
        "    if end_idx < start_idx:\n",
        "      scores = []\n",
        "\n",
        "      for start_idx in range(start_scores.shape[1]):\n",
        "        for end_idx in range(start_idx, start_scores.shape[1]):\n",
        "          score = start_scores[0][start_idx] + end_scores[0][end_idx]\n",
        "          scores.append({'start_idx': start_idx, 'end_idx': end_idx, 'score': score})\n",
        "  \n",
        "      # Select answer span with highest score\n",
        "      best = sorted(scores, key=lambda i: i['score'], reverse=True)[0]\n",
        "      start_idx = best['start_idx']\n",
        "      end_idx = best['end_idx']\n",
        "\n",
        "    return decode_answer(start_idx, end_idx, tokens)"
      ],
      "execution_count": 105,
      "outputs": []
    },
    {
      "cell_type": "code",
      "metadata": {
        "id": "EGCAJ5qqt4Tj",
        "colab_type": "code",
        "colab": {}
      },
      "source": [
        "def answer_question(question, answer_text):\n",
        "    '''\n",
        "    Takes a question string and an answer_text string,\n",
        "    finds answer to the question string in the answer_text string\n",
        "    and prints it.\n",
        "    '''\n",
        "\n",
        "    # Tokenize input\n",
        "    encoded_dict = tokenizer(question, answer_text)\n",
        "\n",
        "    input_ids = encoded_dict['input_ids']\n",
        "\n",
        "    # Mask to distinguish question and answer tokens tokens (0 for question, 1 for answer text)\n",
        "    mask = encoded_dict['token_type_ids']\n",
        "\n",
        "    # Evaluate model\n",
        "    with torch.no_grad():\n",
        "      start_scores, end_scores = model(torch.tensor([input_ids]), token_type_ids=torch.tensor([mask]))\n",
        "\n",
        "    # Get answer\n",
        "    answer = get_answer(start_scores, end_scores, input_ids)\n",
        "\n",
        "    return answer"
      ],
      "execution_count": 106,
      "outputs": []
    },
    {
      "cell_type": "code",
      "metadata": {
        "id": "fGjiUy9ZziLH",
        "colab_type": "code",
        "colab": {
          "base_uri": "https://localhost:8080/",
          "height": 248
        },
        "outputId": "53d7fa71-780e-4035-942b-ce81c9cb6089"
      },
      "source": [
        "# https://rajpurkar.github.io/SQuAD-explorer/explore/v2.0/dev/Packet_switching.html?model=nlnet%20(single%20model)%20(Microsoft%20Research%20Asia)&version=v2.0\n",
        "answer_text = \"Starting in the late 1950s, American computer scientist Paul Baran developed the concept Distributed Adaptive Message Block Switching with the goal to provide a fault-tolerant, efficient routing method for telecommunication messages as part of a research program at the RAND Corporation, funded by the US Department of Defense. This concept contrasted and contradicted the theretofore established principles of pre-allocation of network bandwidth, largely fortified by the development of telecommunications in the Bell System. The new concept found little resonance among network implementers until the independent work of Donald Davies at the National Physical Laboratory (United Kingdom) (NPL) in the late 1960s. Davies is credited with coining the modern name packet switching and inspiring numerous packet switching networks in Europe in the decade following, including the incorporation of the concept in the early ARPANET in the United States.\"\n",
        "\n",
        "wrapper = textwrap.TextWrapper(width=80)\n",
        "print(wrapper.fill(answer_text))"
      ],
      "execution_count": 107,
      "outputs": [
        {
          "output_type": "stream",
          "text": [
            "Starting in the late 1950s, American computer scientist Paul Baran developed the\n",
            "concept Distributed Adaptive Message Block Switching with the goal to provide a\n",
            "fault-tolerant, efficient routing method for telecommunication messages as part\n",
            "of a research program at the RAND Corporation, funded by the US Department of\n",
            "Defense. This concept contrasted and contradicted the theretofore established\n",
            "principles of pre-allocation of network bandwidth, largely fortified by the\n",
            "development of telecommunications in the Bell System. The new concept found\n",
            "little resonance among network implementers until the independent work of Donald\n",
            "Davies at the National Physical Laboratory (United Kingdom) (NPL) in the late\n",
            "1960s. Davies is credited with coining the modern name packet switching and\n",
            "inspiring numerous packet switching networks in Europe in the decade following,\n",
            "including the incorporation of the concept in the early ARPANET in the United\n",
            "States.\n"
          ],
          "name": "stdout"
        }
      ]
    },
    {
      "cell_type": "code",
      "metadata": {
        "id": "mDQyVM6J2qT_",
        "colab_type": "code",
        "colab": {
          "base_uri": "https://localhost:8080/",
          "height": 53
        },
        "outputId": "3e42e1cb-387c-4ae8-f626-e9684f66fef6"
      },
      "source": [
        "question = \"What did Paul Baran develop?\"\n",
        "print(question)\n",
        "\n",
        "# Ground Truth Answers:\n",
        "# Paul Baran developed the concept Distributed Adaptive Message Block Switching\n",
        "# the concept Distributed Adaptive Message Block Switching\n",
        "# Distributed Adaptive Message Block Switching\n",
        "answer = answer_question(question, answer_text)\n",
        "print(\"Answer:\", answer)"
      ],
      "execution_count": 108,
      "outputs": [
        {
          "output_type": "stream",
          "text": [
            "What did Paul Baran develop?\n",
            "Answer: distributed adaptive message block switching\n"
          ],
          "name": "stdout"
        }
      ]
    },
    {
      "cell_type": "code",
      "metadata": {
        "colab_type": "code",
        "id": "tZgeH7fnTlZR",
        "colab": {
          "base_uri": "https://localhost:8080/",
          "height": 53
        },
        "outputId": "1bf0a2cc-11f0-4769-954b-8535f464dda6"
      },
      "source": [
        "question = \"What did Distributed Adaptive Message Block Switching do?\"\n",
        "print(question)\n",
        "\n",
        "# Ground Truth Answers:\n",
        "# provide a fault-tolerant, efficient routing method for telecommunication messages\n",
        "# fault-tolerant, efficient routing method\n",
        "answer = answer_question(question, answer_text)\n",
        "print(\"Answer:\", answer)"
      ],
      "execution_count": 109,
      "outputs": [
        {
          "output_type": "stream",
          "text": [
            "What did Distributed Adaptive Message Block Switching do?\n",
            "Answer: provide a fault - tolerant , efficient routing method for telecommunication messages\n"
          ],
          "name": "stdout"
        }
      ]
    },
    {
      "cell_type": "code",
      "metadata": {
        "id": "jKxYF3prQESZ",
        "colab_type": "code",
        "colab": {
          "base_uri": "https://localhost:8080/",
          "height": 53
        },
        "outputId": "4ea4af53-a880-43c3-b945-0b7caada6058"
      },
      "source": [
        "question = \"In the late 1950s what concept was developed?\"\n",
        "print(question)\n",
        "\n",
        "# Ground Truth Answers:\n",
        "# <No Answer>\n",
        "answer = answer_question(question, answer_text)\n",
        "print(\"Answer:\", answer)"
      ],
      "execution_count": 110,
      "outputs": [
        {
          "output_type": "stream",
          "text": [
            "In the late 1950s what concept was developed?\n",
            "Answer: distributed adaptive message block switching\n"
          ],
          "name": "stdout"
        }
      ]
    },
    {
      "cell_type": "code",
      "metadata": {
        "id": "5JPoifCzQrYU",
        "colab_type": "code",
        "colab": {
          "base_uri": "https://localhost:8080/",
          "height": 53
        },
        "outputId": "7aa72347-733b-46b4-bb5d-583a16879020"
      },
      "source": [
        "question = \"How much funding did the RAND Corporation receive?\"\n",
        "print(question)\n",
        "\n",
        "# Ground Truth Answers:\n",
        "# <No Answer>\n",
        "answer = answer_question(question, answer_text)\n",
        "print(\"Answer:\", answer)"
      ],
      "execution_count": 111,
      "outputs": [
        {
          "output_type": "stream",
          "text": [
            "How much funding did the RAND Corporation receive?\n",
            "Answer: us department of defense\n"
          ],
          "name": "stdout"
        }
      ]
    },
    {
      "cell_type": "code",
      "metadata": {
        "id": "ST7842YUStzO",
        "colab_type": "code",
        "colab": {
          "base_uri": "https://localhost:8080/",
          "height": 53
        },
        "outputId": "8769ebbf-81dc-44d0-b902-646015729611"
      },
      "source": [
        "question = \"What was the independent work of Donald Davis?\"\n",
        "print(question)\n",
        "\n",
        "# Ground Truth Answers:\n",
        "# <No Answer>\n",
        "answer = answer_question(question, answer_text)\n",
        "print(\"Answer:\", answer)"
      ],
      "execution_count": 112,
      "outputs": [
        {
          "output_type": "stream",
          "text": [
            "What was the independent work of Donald Davis?\n",
            "Answer: <No Answer>\n"
          ],
          "name": "stdout"
        }
      ]
    },
    {
      "cell_type": "code",
      "metadata": {
        "id": "YILukuEqUYy_",
        "colab_type": "code",
        "colab": {}
      },
      "source": [
        "answer_text = \"Cat has 4 legs.\""
      ],
      "execution_count": 113,
      "outputs": []
    },
    {
      "cell_type": "code",
      "metadata": {
        "id": "A-KQcph_73CU",
        "colab_type": "code",
        "colab": {
          "base_uri": "https://localhost:8080/",
          "height": 53
        },
        "outputId": "352a5990-0c65-4911-c000-33996ba601d3"
      },
      "source": [
        "question = \"How many eyes does cat have?\"\n",
        "print(question)\n",
        "\n",
        "answer = answer_question(question, answer_text)\n",
        "print(\"Answer:\", answer)"
      ],
      "execution_count": 114,
      "outputs": [
        {
          "output_type": "stream",
          "text": [
            "How many eyes does cat have?\n",
            "Answer: <No Answer>\n"
          ],
          "name": "stdout"
        }
      ]
    },
    {
      "cell_type": "code",
      "metadata": {
        "id": "TU9nFq0kCKQP",
        "colab_type": "code",
        "colab": {
          "base_uri": "https://localhost:8080/",
          "height": 53
        },
        "outputId": "532f1554-f39c-4326-9a59-92e987e6f47d"
      },
      "source": [
        "question = \"How many legs does cat have?\"\n",
        "print(question)\n",
        "\n",
        "answer = answer_question(question, answer_text)\n",
        "print(\"Answer:\", answer)"
      ],
      "execution_count": 115,
      "outputs": [
        {
          "output_type": "stream",
          "text": [
            "How many legs does cat have?\n",
            "Answer: 4\n"
          ],
          "name": "stdout"
        }
      ]
    }
  ]
}